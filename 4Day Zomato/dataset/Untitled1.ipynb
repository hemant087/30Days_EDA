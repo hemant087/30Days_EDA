{
 "cells": [
  {
   "cell_type": "code",
   "execution_count": 160,
   "id": "264e4d08-5f36-4560-905e-fb9367a1c939",
   "metadata": {},
   "outputs": [],
   "source": [
    "import numpy as np\n",
    "import pandas as pd \n",
    "import seaborn as sns \n",
    "import matplotlib.pyplot as plt"
   ]
  },
  {
   "cell_type": "code",
   "execution_count": 161,
   "id": "94b93865-b148-4e0a-94f7-9a0c9419a43b",
   "metadata": {},
   "outputs": [],
   "source": [
    "df = pd.read_csv(\"zomato.csv\", encoding= \"latin1\")"
   ]
  },
  {
   "cell_type": "code",
   "execution_count": 162,
   "id": "7825014f-0d77-49af-9a9e-9b28d20c44ad",
   "metadata": {},
   "outputs": [
    {
     "data": {
      "text/html": [
       "<div>\n",
       "<style scoped>\n",
       "    .dataframe tbody tr th:only-of-type {\n",
       "        vertical-align: middle;\n",
       "    }\n",
       "\n",
       "    .dataframe tbody tr th {\n",
       "        vertical-align: top;\n",
       "    }\n",
       "\n",
       "    .dataframe thead th {\n",
       "        text-align: right;\n",
       "    }\n",
       "</style>\n",
       "<table border=\"1\" class=\"dataframe\">\n",
       "  <thead>\n",
       "    <tr style=\"text-align: right;\">\n",
       "      <th></th>\n",
       "      <th>Restaurant ID</th>\n",
       "      <th>Restaurant Name</th>\n",
       "      <th>Country Code</th>\n",
       "      <th>City</th>\n",
       "      <th>Address</th>\n",
       "      <th>Locality</th>\n",
       "      <th>Locality Verbose</th>\n",
       "      <th>Longitude</th>\n",
       "      <th>Latitude</th>\n",
       "      <th>Cuisines</th>\n",
       "      <th>...</th>\n",
       "      <th>Currency</th>\n",
       "      <th>Has Table booking</th>\n",
       "      <th>Has Online delivery</th>\n",
       "      <th>Is delivering now</th>\n",
       "      <th>Switch to order menu</th>\n",
       "      <th>Price range</th>\n",
       "      <th>Aggregate rating</th>\n",
       "      <th>Rating color</th>\n",
       "      <th>Rating text</th>\n",
       "      <th>Votes</th>\n",
       "    </tr>\n",
       "  </thead>\n",
       "  <tbody>\n",
       "    <tr>\n",
       "      <th>0</th>\n",
       "      <td>6317637</td>\n",
       "      <td>Le Petit Souffle</td>\n",
       "      <td>162</td>\n",
       "      <td>Makati City</td>\n",
       "      <td>Third Floor, Century City Mall, Kalayaan Avenu...</td>\n",
       "      <td>Century City Mall, Poblacion, Makati City</td>\n",
       "      <td>Century City Mall, Poblacion, Makati City, Mak...</td>\n",
       "      <td>121.027535</td>\n",
       "      <td>14.565443</td>\n",
       "      <td>French, Japanese, Desserts</td>\n",
       "      <td>...</td>\n",
       "      <td>Botswana Pula(P)</td>\n",
       "      <td>Yes</td>\n",
       "      <td>No</td>\n",
       "      <td>No</td>\n",
       "      <td>No</td>\n",
       "      <td>3</td>\n",
       "      <td>4.8</td>\n",
       "      <td>Dark Green</td>\n",
       "      <td>Excellent</td>\n",
       "      <td>314</td>\n",
       "    </tr>\n",
       "    <tr>\n",
       "      <th>1</th>\n",
       "      <td>6304287</td>\n",
       "      <td>Izakaya Kikufuji</td>\n",
       "      <td>162</td>\n",
       "      <td>Makati City</td>\n",
       "      <td>Little Tokyo, 2277 Chino Roces Avenue, Legaspi...</td>\n",
       "      <td>Little Tokyo, Legaspi Village, Makati City</td>\n",
       "      <td>Little Tokyo, Legaspi Village, Makati City, Ma...</td>\n",
       "      <td>121.014101</td>\n",
       "      <td>14.553708</td>\n",
       "      <td>Japanese</td>\n",
       "      <td>...</td>\n",
       "      <td>Botswana Pula(P)</td>\n",
       "      <td>Yes</td>\n",
       "      <td>No</td>\n",
       "      <td>No</td>\n",
       "      <td>No</td>\n",
       "      <td>3</td>\n",
       "      <td>4.5</td>\n",
       "      <td>Dark Green</td>\n",
       "      <td>Excellent</td>\n",
       "      <td>591</td>\n",
       "    </tr>\n",
       "    <tr>\n",
       "      <th>2</th>\n",
       "      <td>6300002</td>\n",
       "      <td>Heat - Edsa Shangri-La</td>\n",
       "      <td>162</td>\n",
       "      <td>Mandaluyong City</td>\n",
       "      <td>Edsa Shangri-La, 1 Garden Way, Ortigas, Mandal...</td>\n",
       "      <td>Edsa Shangri-La, Ortigas, Mandaluyong City</td>\n",
       "      <td>Edsa Shangri-La, Ortigas, Mandaluyong City, Ma...</td>\n",
       "      <td>121.056831</td>\n",
       "      <td>14.581404</td>\n",
       "      <td>Seafood, Asian, Filipino, Indian</td>\n",
       "      <td>...</td>\n",
       "      <td>Botswana Pula(P)</td>\n",
       "      <td>Yes</td>\n",
       "      <td>No</td>\n",
       "      <td>No</td>\n",
       "      <td>No</td>\n",
       "      <td>4</td>\n",
       "      <td>4.4</td>\n",
       "      <td>Green</td>\n",
       "      <td>Very Good</td>\n",
       "      <td>270</td>\n",
       "    </tr>\n",
       "    <tr>\n",
       "      <th>3</th>\n",
       "      <td>6318506</td>\n",
       "      <td>Ooma</td>\n",
       "      <td>162</td>\n",
       "      <td>Mandaluyong City</td>\n",
       "      <td>Third Floor, Mega Fashion Hall, SM Megamall, O...</td>\n",
       "      <td>SM Megamall, Ortigas, Mandaluyong City</td>\n",
       "      <td>SM Megamall, Ortigas, Mandaluyong City, Mandal...</td>\n",
       "      <td>121.056475</td>\n",
       "      <td>14.585318</td>\n",
       "      <td>Japanese, Sushi</td>\n",
       "      <td>...</td>\n",
       "      <td>Botswana Pula(P)</td>\n",
       "      <td>No</td>\n",
       "      <td>No</td>\n",
       "      <td>No</td>\n",
       "      <td>No</td>\n",
       "      <td>4</td>\n",
       "      <td>4.9</td>\n",
       "      <td>Dark Green</td>\n",
       "      <td>Excellent</td>\n",
       "      <td>365</td>\n",
       "    </tr>\n",
       "    <tr>\n",
       "      <th>4</th>\n",
       "      <td>6314302</td>\n",
       "      <td>Sambo Kojin</td>\n",
       "      <td>162</td>\n",
       "      <td>Mandaluyong City</td>\n",
       "      <td>Third Floor, Mega Atrium, SM Megamall, Ortigas...</td>\n",
       "      <td>SM Megamall, Ortigas, Mandaluyong City</td>\n",
       "      <td>SM Megamall, Ortigas, Mandaluyong City, Mandal...</td>\n",
       "      <td>121.057508</td>\n",
       "      <td>14.584450</td>\n",
       "      <td>Japanese, Korean</td>\n",
       "      <td>...</td>\n",
       "      <td>Botswana Pula(P)</td>\n",
       "      <td>Yes</td>\n",
       "      <td>No</td>\n",
       "      <td>No</td>\n",
       "      <td>No</td>\n",
       "      <td>4</td>\n",
       "      <td>4.8</td>\n",
       "      <td>Dark Green</td>\n",
       "      <td>Excellent</td>\n",
       "      <td>229</td>\n",
       "    </tr>\n",
       "  </tbody>\n",
       "</table>\n",
       "<p>5 rows × 21 columns</p>\n",
       "</div>"
      ],
      "text/plain": [
       "   Restaurant ID         Restaurant Name  Country Code              City  \\\n",
       "0        6317637        Le Petit Souffle           162       Makati City   \n",
       "1        6304287        Izakaya Kikufuji           162       Makati City   \n",
       "2        6300002  Heat - Edsa Shangri-La           162  Mandaluyong City   \n",
       "3        6318506                    Ooma           162  Mandaluyong City   \n",
       "4        6314302             Sambo Kojin           162  Mandaluyong City   \n",
       "\n",
       "                                             Address  \\\n",
       "0  Third Floor, Century City Mall, Kalayaan Avenu...   \n",
       "1  Little Tokyo, 2277 Chino Roces Avenue, Legaspi...   \n",
       "2  Edsa Shangri-La, 1 Garden Way, Ortigas, Mandal...   \n",
       "3  Third Floor, Mega Fashion Hall, SM Megamall, O...   \n",
       "4  Third Floor, Mega Atrium, SM Megamall, Ortigas...   \n",
       "\n",
       "                                     Locality  \\\n",
       "0   Century City Mall, Poblacion, Makati City   \n",
       "1  Little Tokyo, Legaspi Village, Makati City   \n",
       "2  Edsa Shangri-La, Ortigas, Mandaluyong City   \n",
       "3      SM Megamall, Ortigas, Mandaluyong City   \n",
       "4      SM Megamall, Ortigas, Mandaluyong City   \n",
       "\n",
       "                                    Locality Verbose   Longitude   Latitude  \\\n",
       "0  Century City Mall, Poblacion, Makati City, Mak...  121.027535  14.565443   \n",
       "1  Little Tokyo, Legaspi Village, Makati City, Ma...  121.014101  14.553708   \n",
       "2  Edsa Shangri-La, Ortigas, Mandaluyong City, Ma...  121.056831  14.581404   \n",
       "3  SM Megamall, Ortigas, Mandaluyong City, Mandal...  121.056475  14.585318   \n",
       "4  SM Megamall, Ortigas, Mandaluyong City, Mandal...  121.057508  14.584450   \n",
       "\n",
       "                           Cuisines  ...          Currency Has Table booking  \\\n",
       "0        French, Japanese, Desserts  ...  Botswana Pula(P)               Yes   \n",
       "1                          Japanese  ...  Botswana Pula(P)               Yes   \n",
       "2  Seafood, Asian, Filipino, Indian  ...  Botswana Pula(P)               Yes   \n",
       "3                   Japanese, Sushi  ...  Botswana Pula(P)                No   \n",
       "4                  Japanese, Korean  ...  Botswana Pula(P)               Yes   \n",
       "\n",
       "  Has Online delivery Is delivering now Switch to order menu Price range  \\\n",
       "0                  No                No                   No           3   \n",
       "1                  No                No                   No           3   \n",
       "2                  No                No                   No           4   \n",
       "3                  No                No                   No           4   \n",
       "4                  No                No                   No           4   \n",
       "\n",
       "   Aggregate rating  Rating color Rating text Votes  \n",
       "0               4.8    Dark Green   Excellent   314  \n",
       "1               4.5    Dark Green   Excellent   591  \n",
       "2               4.4         Green   Very Good   270  \n",
       "3               4.9    Dark Green   Excellent   365  \n",
       "4               4.8    Dark Green   Excellent   229  \n",
       "\n",
       "[5 rows x 21 columns]"
      ]
     },
     "execution_count": 162,
     "metadata": {},
     "output_type": "execute_result"
    }
   ],
   "source": [
    "df.head()"
   ]
  },
  {
   "cell_type": "code",
   "execution_count": 163,
   "id": "0c21bdbf-c537-4bac-9c5b-2b9c63ae4bf1",
   "metadata": {},
   "outputs": [
    {
     "data": {
      "text/plain": [
       "Index(['Restaurant ID', 'Restaurant Name', 'Country Code', 'City', 'Address',\n",
       "       'Locality', 'Locality Verbose', 'Longitude', 'Latitude', 'Cuisines',\n",
       "       'Average Cost for two', 'Currency', 'Has Table booking',\n",
       "       'Has Online delivery', 'Is delivering now', 'Switch to order menu',\n",
       "       'Price range', 'Aggregate rating', 'Rating color', 'Rating text',\n",
       "       'Votes'],\n",
       "      dtype='object')"
      ]
     },
     "execution_count": 163,
     "metadata": {},
     "output_type": "execute_result"
    }
   ],
   "source": [
    "df.columns"
   ]
  },
  {
   "cell_type": "code",
   "execution_count": 164,
   "id": "f4b7980c-41f4-459b-af78-45369b886243",
   "metadata": {},
   "outputs": [
    {
     "data": {
      "text/plain": [
       "Restaurant ID\n",
       "6317637    1\n",
       "6300010    1\n",
       "6300002    1\n",
       "6318506    1\n",
       "6314302    1\n",
       "          ..\n",
       "5915547    1\n",
       "5915054    1\n",
       "5915730    1\n",
       "5915807    1\n",
       "5927402    1\n",
       "Name: count, Length: 9551, dtype: int64"
      ]
     },
     "execution_count": 164,
     "metadata": {},
     "output_type": "execute_result"
    }
   ],
   "source": [
    "df[\"Restaurant ID\"].value_counts().sort_values(ascending=True)"
   ]
  },
  {
   "cell_type": "code",
   "execution_count": 165,
   "id": "53d8a375-73a2-4e52-a05f-e9926d41eedd",
   "metadata": {},
   "outputs": [
    {
     "data": {
      "text/plain": [
       "(9551, 21)"
      ]
     },
     "execution_count": 165,
     "metadata": {},
     "output_type": "execute_result"
    }
   ],
   "source": [
    "df.shape"
   ]
  },
  {
   "cell_type": "code",
   "execution_count": 166,
   "id": "99a20733-ac82-4a44-af0c-c828c46b906a",
   "metadata": {},
   "outputs": [
    {
     "name": "stdout",
     "output_type": "stream",
     "text": [
      "<class 'pandas.core.frame.DataFrame'>\n",
      "RangeIndex: 9551 entries, 0 to 9550\n",
      "Data columns (total 21 columns):\n",
      " #   Column                Non-Null Count  Dtype  \n",
      "---  ------                --------------  -----  \n",
      " 0   Restaurant ID         9551 non-null   int64  \n",
      " 1   Restaurant Name       9551 non-null   object \n",
      " 2   Country Code          9551 non-null   int64  \n",
      " 3   City                  9551 non-null   object \n",
      " 4   Address               9551 non-null   object \n",
      " 5   Locality              9551 non-null   object \n",
      " 6   Locality Verbose      9551 non-null   object \n",
      " 7   Longitude             9551 non-null   float64\n",
      " 8   Latitude              9551 non-null   float64\n",
      " 9   Cuisines              9542 non-null   object \n",
      " 10  Average Cost for two  9551 non-null   int64  \n",
      " 11  Currency              9551 non-null   object \n",
      " 12  Has Table booking     9551 non-null   object \n",
      " 13  Has Online delivery   9551 non-null   object \n",
      " 14  Is delivering now     9551 non-null   object \n",
      " 15  Switch to order menu  9551 non-null   object \n",
      " 16  Price range           9551 non-null   int64  \n",
      " 17  Aggregate rating      9551 non-null   float64\n",
      " 18  Rating color          9551 non-null   object \n",
      " 19  Rating text           9551 non-null   object \n",
      " 20  Votes                 9551 non-null   int64  \n",
      "dtypes: float64(3), int64(5), object(13)\n",
      "memory usage: 1.5+ MB\n"
     ]
    }
   ],
   "source": [
    "df.info()"
   ]
  },
  {
   "cell_type": "code",
   "execution_count": 167,
   "id": "2dd369e5-52ae-42b5-95b9-7d090d05bf20",
   "metadata": {},
   "outputs": [
    {
     "data": {
      "text/plain": [
       "Country Code\n",
       "1      8652\n",
       "216     434\n",
       "215      80\n",
       "30       60\n",
       "214      60\n",
       "189      60\n",
       "148      40\n",
       "208      34\n",
       "14       24\n",
       "162      22\n",
       "94       21\n",
       "184      20\n",
       "166      20\n",
       "191      20\n",
       "37        4\n",
       "Name: count, dtype: int64"
      ]
     },
     "execution_count": 167,
     "metadata": {},
     "output_type": "execute_result"
    }
   ],
   "source": [
    "df[\"Country Code\"].value_counts()"
   ]
  },
  {
   "cell_type": "code",
   "execution_count": 168,
   "id": "c153803a-0d62-407f-bc03-134e60babda0",
   "metadata": {},
   "outputs": [
    {
     "data": {
      "text/plain": [
       "(0.0, 1000.0)"
      ]
     },
     "execution_count": 168,
     "metadata": {},
     "output_type": "execute_result"
    },
    {
     "data": {
      "image/png": "[encoded data removed]",
      "text/plain": [
       "<Figure size 640x480 with 1 Axes>"
      ]
     },
     "metadata": {},
     "output_type": "display_data"
    }
   ],
   "source": [
    "sns.countplot(data=df,x=\"Country Code\",)\n",
    "# plt.set_ylim(2000)\n",
    "plt.ylim(0, 1000)"
   ]
  },
  {
   "cell_type": "code",
   "execution_count": 169,
   "id": "3c5ff0f9-4b9a-431a-a4c2-49cbee0e30f7",
   "metadata": {},
   "outputs": [
    {
     "data": {
      "image/png": "[encoded data removed]",
      "text/plain": [
       "<Figure size 640x480 with 1 Axes>"
      ]
     },
     "metadata": {},
     "output_type": "display_data"
    }
   ],
   "source": [
    "plt.pie(x=df[\"Country Code\"].value_counts().head(3), \n",
    "        labels=[\"USA\",\"Tunashia\",\"United State\"],autopct=\"%0.2f%%\")\n",
    "plt.show()"
   ]
  },
  {
   "cell_type": "code",
   "execution_count": 170,
   "id": "ab38923e-42fe-4e0a-a781-ab8c274bbd8b",
   "metadata": {},
   "outputs": [
    {
     "data": {
      "text/plain": [
       "Country Code\n",
       "1      8652\n",
       "216     434\n",
       "215      80\n",
       "30       60\n",
       "214      60\n",
       "Name: count, dtype: int64"
      ]
     },
     "execution_count": 170,
     "metadata": {},
     "output_type": "execute_result"
    }
   ],
   "source": [
    "df[\"Country Code\"].value_counts().head()"
   ]
  },
  {
   "cell_type": "code",
   "execution_count": 171,
   "id": "2935ae64-1aa3-4612-acfd-58af1e4a3e15",
   "metadata": {},
   "outputs": [
    {
     "data": {
      "text/plain": [
       "<Axes: xlabel='City'>"
      ]
     },
     "execution_count": 171,
     "metadata": {},
     "output_type": "execute_result"
    },
    {
     "data": {
      "image/png": "[encoded data removed]",
      "text/plain": [
       "<Figure size 640x480 with 1 Axes>"
      ]
     },
     "metadata": {},
     "output_type": "display_data"
    }
   ],
   "source": [
    "df[\"City\"].value_counts().head().plot(kind = \"bar\")"
   ]
  },
  {
   "cell_type": "code",
   "execution_count": 172,
   "id": "3987034e-4613-442a-a177-9c691bcb8189",
   "metadata": {},
   "outputs": [],
   "source": [
    "cuis = df[\"Cuisines\"].value_counts()"
   ]
  },
  {
   "cell_type": "code",
   "execution_count": 173,
   "id": "eb6b855d-b31a-4a5b-847e-6a06a17ee48c",
   "metadata": {},
   "outputs": [
    {
     "data": {
      "text/plain": [
       "Index(['North Indian', 'North Indian, Chinese', 'Chinese', 'Fast Food',\n",
       "       'North Indian, Mughlai', 'Cafe', 'Bakery',\n",
       "       'North Indian, Mughlai, Chinese', 'Bakery, Desserts', 'Street Food',\n",
       "       ...\n",
       "       'Cafe, Pizza, Burger',\n",
       "       'Healthy Food, Continental, Juices, Beverages, Italian, Salad, Lebanese',\n",
       "       'Goan, American, Portuguese', 'South Indian, Desserts, Beverages',\n",
       "       'Healthy Food, North Indian, Italian, Salad', 'Bengali, Fast Food',\n",
       "       'North Indian, Rajasthani, Asian',\n",
       "       'Chinese, Thai, Malaysian, Indonesian',\n",
       "       'Bakery, Desserts, North Indian, Bengali, South Indian',\n",
       "       'Italian, World Cuisine'],\n",
       "      dtype='object', name='Cuisines', length=1825)"
      ]
     },
     "execution_count": 173,
     "metadata": {},
     "output_type": "execute_result"
    }
   ],
   "source": [
    "cuis.index"
   ]
  },
  {
   "cell_type": "code",
   "execution_count": 174,
   "id": "c02482fa-ed80-4a52-9f74-897b001f252a",
   "metadata": {},
   "outputs": [
    {
     "data": {
      "text/html": [
       "<div>\n",
       "<style scoped>\n",
       "    .dataframe tbody tr th:only-of-type {\n",
       "        vertical-align: middle;\n",
       "    }\n",
       "\n",
       "    .dataframe tbody tr th {\n",
       "        vertical-align: top;\n",
       "    }\n",
       "\n",
       "    .dataframe thead th {\n",
       "        text-align: right;\n",
       "    }\n",
       "</style>\n",
       "<table border=\"1\" class=\"dataframe\">\n",
       "  <thead>\n",
       "    <tr style=\"text-align: right;\">\n",
       "      <th></th>\n",
       "      <th>Restaurant ID</th>\n",
       "      <th>Restaurant Name</th>\n",
       "      <th>Country Code</th>\n",
       "      <th>City</th>\n",
       "      <th>Address</th>\n",
       "      <th>Locality</th>\n",
       "      <th>Locality Verbose</th>\n",
       "      <th>Longitude</th>\n",
       "      <th>Latitude</th>\n",
       "      <th>Cuisines</th>\n",
       "      <th>...</th>\n",
       "      <th>Currency</th>\n",
       "      <th>Has Table booking</th>\n",
       "      <th>Has Online delivery</th>\n",
       "      <th>Is delivering now</th>\n",
       "      <th>Switch to order menu</th>\n",
       "      <th>Price range</th>\n",
       "      <th>Aggregate rating</th>\n",
       "      <th>Rating color</th>\n",
       "      <th>Rating text</th>\n",
       "      <th>Votes</th>\n",
       "    </tr>\n",
       "  </thead>\n",
       "  <tbody>\n",
       "    <tr>\n",
       "      <th>0</th>\n",
       "      <td>6317637</td>\n",
       "      <td>Le Petit Souffle</td>\n",
       "      <td>162</td>\n",
       "      <td>Makati City</td>\n",
       "      <td>Third Floor, Century City Mall, Kalayaan Avenu...</td>\n",
       "      <td>Century City Mall, Poblacion, Makati City</td>\n",
       "      <td>Century City Mall, Poblacion, Makati City, Mak...</td>\n",
       "      <td>121.027535</td>\n",
       "      <td>14.565443</td>\n",
       "      <td>French, Japanese, Desserts</td>\n",
       "      <td>...</td>\n",
       "      <td>Botswana Pula(P)</td>\n",
       "      <td>Yes</td>\n",
       "      <td>No</td>\n",
       "      <td>No</td>\n",
       "      <td>No</td>\n",
       "      <td>3</td>\n",
       "      <td>4.8</td>\n",
       "      <td>Dark Green</td>\n",
       "      <td>Excellent</td>\n",
       "      <td>314</td>\n",
       "    </tr>\n",
       "    <tr>\n",
       "      <th>1</th>\n",
       "      <td>6304287</td>\n",
       "      <td>Izakaya Kikufuji</td>\n",
       "      <td>162</td>\n",
       "      <td>Makati City</td>\n",
       "      <td>Little Tokyo, 2277 Chino Roces Avenue, Legaspi...</td>\n",
       "      <td>Little Tokyo, Legaspi Village, Makati City</td>\n",
       "      <td>Little Tokyo, Legaspi Village, Makati City, Ma...</td>\n",
       "      <td>121.014101</td>\n",
       "      <td>14.553708</td>\n",
       "      <td>Japanese</td>\n",
       "      <td>...</td>\n",
       "      <td>Botswana Pula(P)</td>\n",
       "      <td>Yes</td>\n",
       "      <td>No</td>\n",
       "      <td>No</td>\n",
       "      <td>No</td>\n",
       "      <td>3</td>\n",
       "      <td>4.5</td>\n",
       "      <td>Dark Green</td>\n",
       "      <td>Excellent</td>\n",
       "      <td>591</td>\n",
       "    </tr>\n",
       "    <tr>\n",
       "      <th>2</th>\n",
       "      <td>6300002</td>\n",
       "      <td>Heat - Edsa Shangri-La</td>\n",
       "      <td>162</td>\n",
       "      <td>Mandaluyong City</td>\n",
       "      <td>Edsa Shangri-La, 1 Garden Way, Ortigas, Mandal...</td>\n",
       "      <td>Edsa Shangri-La, Ortigas, Mandaluyong City</td>\n",
       "      <td>Edsa Shangri-La, Ortigas, Mandaluyong City, Ma...</td>\n",
       "      <td>121.056831</td>\n",
       "      <td>14.581404</td>\n",
       "      <td>Seafood, Asian, Filipino, Indian</td>\n",
       "      <td>...</td>\n",
       "      <td>Botswana Pula(P)</td>\n",
       "      <td>Yes</td>\n",
       "      <td>No</td>\n",
       "      <td>No</td>\n",
       "      <td>No</td>\n",
       "      <td>4</td>\n",
       "      <td>4.4</td>\n",
       "      <td>Green</td>\n",
       "      <td>Very Good</td>\n",
       "      <td>270</td>\n",
       "    </tr>\n",
       "    <tr>\n",
       "      <th>3</th>\n",
       "      <td>6318506</td>\n",
       "      <td>Ooma</td>\n",
       "      <td>162</td>\n",
       "      <td>Mandaluyong City</td>\n",
       "      <td>Third Floor, Mega Fashion Hall, SM Megamall, O...</td>\n",
       "      <td>SM Megamall, Ortigas, Mandaluyong City</td>\n",
       "      <td>SM Megamall, Ortigas, Mandaluyong City, Mandal...</td>\n",
       "      <td>121.056475</td>\n",
       "      <td>14.585318</td>\n",
       "      <td>Japanese, Sushi</td>\n",
       "      <td>...</td>\n",
       "      <td>Botswana Pula(P)</td>\n",
       "      <td>No</td>\n",
       "      <td>No</td>\n",
       "      <td>No</td>\n",
       "      <td>No</td>\n",
       "      <td>4</td>\n",
       "      <td>4.9</td>\n",
       "      <td>Dark Green</td>\n",
       "      <td>Excellent</td>\n",
       "      <td>365</td>\n",
       "    </tr>\n",
       "    <tr>\n",
       "      <th>4</th>\n",
       "      <td>6314302</td>\n",
       "      <td>Sambo Kojin</td>\n",
       "      <td>162</td>\n",
       "      <td>Mandaluyong City</td>\n",
       "      <td>Third Floor, Mega Atrium, SM Megamall, Ortigas...</td>\n",
       "      <td>SM Megamall, Ortigas, Mandaluyong City</td>\n",
       "      <td>SM Megamall, Ortigas, Mandaluyong City, Mandal...</td>\n",
       "      <td>121.057508</td>\n",
       "      <td>14.584450</td>\n",
       "      <td>Japanese, Korean</td>\n",
       "      <td>...</td>\n",
       "      <td>Botswana Pula(P)</td>\n",
       "      <td>Yes</td>\n",
       "      <td>No</td>\n",
       "      <td>No</td>\n",
       "      <td>No</td>\n",
       "      <td>4</td>\n",
       "      <td>4.8</td>\n",
       "      <td>Dark Green</td>\n",
       "      <td>Excellent</td>\n",
       "      <td>229</td>\n",
       "    </tr>\n",
       "  </tbody>\n",
       "</table>\n",
       "<p>5 rows × 21 columns</p>\n",
       "</div>"
      ],
      "text/plain": [
       "   Restaurant ID         Restaurant Name  Country Code              City  \\\n",
       "0        6317637        Le Petit Souffle           162       Makati City   \n",
       "1        6304287        Izakaya Kikufuji           162       Makati City   \n",
       "2        6300002  Heat - Edsa Shangri-La           162  Mandaluyong City   \n",
       "3        6318506                    Ooma           162  Mandaluyong City   \n",
       "4        6314302             Sambo Kojin           162  Mandaluyong City   \n",
       "\n",
       "                                             Address  \\\n",
       "0  Third Floor, Century City Mall, Kalayaan Avenu...   \n",
       "1  Little Tokyo, 2277 Chino Roces Avenue, Legaspi...   \n",
       "2  Edsa Shangri-La, 1 Garden Way, Ortigas, Mandal...   \n",
       "3  Third Floor, Mega Fashion Hall, SM Megamall, O...   \n",
       "4  Third Floor, Mega Atrium, SM Megamall, Ortigas...   \n",
       "\n",
       "                                     Locality  \\\n",
       "0   Century City Mall, Poblacion, Makati City   \n",
       "1  Little Tokyo, Legaspi Village, Makati City   \n",
       "2  Edsa Shangri-La, Ortigas, Mandaluyong City   \n",
       "3      SM Megamall, Ortigas, Mandaluyong City   \n",
       "4      SM Megamall, Ortigas, Mandaluyong City   \n",
       "\n",
       "                                    Locality Verbose   Longitude   Latitude  \\\n",
       "0  Century City Mall, Poblacion, Makati City, Mak...  121.027535  14.565443   \n",
       "1  Little Tokyo, Legaspi Village, Makati City, Ma...  121.014101  14.553708   \n",
       "2  Edsa Shangri-La, Ortigas, Mandaluyong City, Ma...  121.056831  14.581404   \n",
       "3  SM Megamall, Ortigas, Mandaluyong City, Mandal...  121.056475  14.585318   \n",
       "4  SM Megamall, Ortigas, Mandaluyong City, Mandal...  121.057508  14.584450   \n",
       "\n",
       "                           Cuisines  ...          Currency Has Table booking  \\\n",
       "0        French, Japanese, Desserts  ...  Botswana Pula(P)               Yes   \n",
       "1                          Japanese  ...  Botswana Pula(P)               Yes   \n",
       "2  Seafood, Asian, Filipino, Indian  ...  Botswana Pula(P)               Yes   \n",
       "3                   Japanese, Sushi  ...  Botswana Pula(P)                No   \n",
       "4                  Japanese, Korean  ...  Botswana Pula(P)               Yes   \n",
       "\n",
       "  Has Online delivery Is delivering now Switch to order menu Price range  \\\n",
       "0                  No                No                   No           3   \n",
       "1                  No                No                   No           3   \n",
       "2                  No                No                   No           4   \n",
       "3                  No                No                   No           4   \n",
       "4                  No                No                   No           4   \n",
       "\n",
       "   Aggregate rating  Rating color Rating text Votes  \n",
       "0               4.8    Dark Green   Excellent   314  \n",
       "1               4.5    Dark Green   Excellent   591  \n",
       "2               4.4         Green   Very Good   270  \n",
       "3               4.9    Dark Green   Excellent   365  \n",
       "4               4.8    Dark Green   Excellent   229  \n",
       "\n",
       "[5 rows x 21 columns]"
      ]
     },
     "execution_count": 174,
     "metadata": {},
     "output_type": "execute_result"
    }
   ],
   "source": [
    "df.head()"
   ]
  },
  {
   "cell_type": "code",
   "execution_count": 175,
   "id": "33864a99-649c-42b2-9282-7c0494e6e878",
   "metadata": {},
   "outputs": [
    {
     "data": {
      "text/plain": [
       "Index(['Restaurant ID', 'Restaurant Name', 'Country Code', 'City', 'Address',\n",
       "       'Locality', 'Locality Verbose', 'Longitude', 'Latitude', 'Cuisines',\n",
       "       'Average Cost for two', 'Currency', 'Has Table booking',\n",
       "       'Has Online delivery', 'Is delivering now', 'Switch to order menu',\n",
       "       'Price range', 'Aggregate rating', 'Rating color', 'Rating text',\n",
       "       'Votes'],\n",
       "      dtype='object')"
      ]
     },
     "execution_count": 175,
     "metadata": {},
     "output_type": "execute_result"
    }
   ],
   "source": [
    "df.columns"
   ]
  },
  {
   "cell_type": "code",
   "execution_count": 176,
   "id": "d95a4cd5-9254-4192-a1a7-c0ad12c82502",
   "metadata": {},
   "outputs": [
    {
     "data": {
      "text/plain": [
       "array(['French, Japanese, Desserts', 'Japanese',\n",
       "       'Seafood, Asian, Filipino, Indian', ..., 'Burger, Izgara',\n",
       "       'World Cuisine, Patisserie, Cafe', 'Italian, World Cuisine'],\n",
       "      dtype=object)"
      ]
     },
     "execution_count": 176,
     "metadata": {},
     "output_type": "execute_result"
    }
   ],
   "source": [
    "df[\"Cuisines\"].unique()"
   ]
  },
  {
   "cell_type": "code",
   "execution_count": 177,
   "id": "ed031dce-e233-41f2-9a0e-cee3e2f00c82",
   "metadata": {},
   "outputs": [
    {
     "data": {
      "text/plain": [
       "0       None\n",
       "1       None\n",
       "2       None\n",
       "3       None\n",
       "4       None\n",
       "        ... \n",
       "9546    None\n",
       "9547    None\n",
       "9548    None\n",
       "9549    None\n",
       "9550    None\n",
       "Name: Cuisines, Length: 9551, dtype: object"
      ]
     },
     "execution_count": 177,
     "metadata": {},
     "output_type": "execute_result"
    }
   ],
   "source": [
    "dt = {\"North Indian\": 0}\n",
    "\n",
    "def food(cus):\n",
    "    if \"North Indian\" in str(cus):  # ensure it's a string, in case of NaN\n",
    "        dt[\"North Indian\"] += 1\n",
    "\n",
    "df[\"Cuisines\"].apply(food)"
   ]
  },
  {
   "cell_type": "code",
   "execution_count": 178,
   "id": "74817546-6d18-4101-a0ea-beafcbe04077",
   "metadata": {},
   "outputs": [
    {
     "data": {
      "text/plain": [
       "{'North Indian': 3960}"
      ]
     },
     "execution_count": 178,
     "metadata": {},
     "output_type": "execute_result"
    }
   ],
   "source": [
    "dt"
   ]
  },
  {
   "cell_type": "code",
   "execution_count": 179,
   "id": "e47d44d3-aae1-4cf7-b46e-5cc13794c039",
   "metadata": {},
   "outputs": [
    {
     "data": {
      "text/plain": [
       "array(['French, Japanese, Desserts', 'Japanese',\n",
       "       'Seafood, Asian, Filipino, Indian', ..., 'Burger, Izgara',\n",
       "       'World Cuisine, Patisserie, Cafe', 'Italian, World Cuisine'],\n",
       "      dtype=object)"
      ]
     },
     "execution_count": 179,
     "metadata": {},
     "output_type": "execute_result"
    }
   ],
   "source": [
    "df[\"Cuisines\"].unique()"
   ]
  },
  {
   "cell_type": "code",
   "execution_count": 180,
   "id": "02fa9714-3ace-498f-92e6-c3f986d47bd7",
   "metadata": {},
   "outputs": [],
   "source": [
    "def lst(st):\n",
    "    temp = str(st).split(\", \")\n",
    "    return temp"
   ]
  },
  {
   "cell_type": "code",
   "execution_count": 181,
   "id": "da358a29-f756-4774-b479-4825b804d73e",
   "metadata": {},
   "outputs": [],
   "source": [
    "df[\"Cuisines\"] = df[\"Cuisines\"].apply(lst)"
   ]
  },
  {
   "cell_type": "code",
   "execution_count": 182,
   "id": "8ad3d6cd-6cc7-407e-a151-c48f0ea224a0",
   "metadata": {},
   "outputs": [
    {
     "data": {
      "text/plain": [
       "0       None\n",
       "1       None\n",
       "2       None\n",
       "3       None\n",
       "4       None\n",
       "        ... \n",
       "9546    None\n",
       "9547    None\n",
       "9548    None\n",
       "9549    None\n",
       "9550    None\n",
       "Name: Cuisines, Length: 9551, dtype: object"
      ]
     },
     "execution_count": 182,
     "metadata": {},
     "output_type": "execute_result"
    }
   ],
   "source": [
    "dt = {}\n",
    "def cu_count(lst):\n",
    "    for i in lst:\n",
    "        if i not in dt:\n",
    "            dt[i] = 1\n",
    "        else:\n",
    "            dt[i] +=1\n",
    "df[\"Cuisines\"].apply(cu_count)"
   ]
  },
  {
   "cell_type": "code",
   "execution_count": 183,
   "id": "7d50a5fd-ebad-4f74-8a7a-75f9e272509e",
   "metadata": {},
   "outputs": [],
   "source": [
    "Cuis = pd.Series(dt)"
   ]
  },
  {
   "cell_type": "code",
   "execution_count": 184,
   "id": "deab777f-56aa-4424-91a1-b8c7003327c3",
   "metadata": {},
   "outputs": [
    {
     "data": {
      "text/plain": [
       "<Axes: >"
      ]
     },
     "execution_count": 184,
     "metadata": {},
     "output_type": "execute_result"
    },
    {
     "data": {
      "image/png": "[encoded data removed]",
      "text/plain": [
       "<Figure size 640x480 with 1 Axes>"
      ]
     },
     "metadata": {},
     "output_type": "display_data"
    }
   ],
   "source": [
    "Cuis.sort_values(ascending=False).head(10).plot(kind = \"bar\")"
   ]
  },
  {
   "cell_type": "code",
   "execution_count": 185,
   "id": "7b9a4c11-949e-4a17-b0fb-cefb5721948a",
   "metadata": {},
   "outputs": [],
   "source": [
    "# nort indian is more famous among other, it show that "
   ]
  },
  {
   "cell_type": "code",
   "execution_count": 186,
   "id": "299f2ae8-aee3-475e-90df-cc1585211f6b",
   "metadata": {},
   "outputs": [
    {
     "data": {
      "text/plain": [
       "count      9551.000000\n",
       "mean       1199.210763\n",
       "std       16121.183073\n",
       "min           0.000000\n",
       "25%         250.000000\n",
       "50%         400.000000\n",
       "75%         700.000000\n",
       "max      800000.000000\n",
       "Name: Average Cost for two, dtype: float64"
      ]
     },
     "execution_count": 186,
     "metadata": {},
     "output_type": "execute_result"
    }
   ],
   "source": [
    "df[\"Average Cost for two\"].describe()"
   ]
  },
  {
   "cell_type": "code",
   "execution_count": 187,
   "id": "46761e22-1c48-46ae-9b01-c8f6f49e177a",
   "metadata": {
    "scrolled": true
   },
   "outputs": [
    {
     "data": {
      "text/html": [
       "<div>\n",
       "<style scoped>\n",
       "    .dataframe tbody tr th:only-of-type {\n",
       "        vertical-align: middle;\n",
       "    }\n",
       "\n",
       "    .dataframe tbody tr th {\n",
       "        vertical-align: top;\n",
       "    }\n",
       "\n",
       "    .dataframe thead th {\n",
       "        text-align: right;\n",
       "    }\n",
       "</style>\n",
       "<table border=\"1\" class=\"dataframe\">\n",
       "  <thead>\n",
       "    <tr style=\"text-align: right;\">\n",
       "      <th></th>\n",
       "      <th>Restaurant ID</th>\n",
       "      <th>Restaurant Name</th>\n",
       "      <th>Country Code</th>\n",
       "      <th>City</th>\n",
       "      <th>Address</th>\n",
       "      <th>Locality</th>\n",
       "      <th>Locality Verbose</th>\n",
       "      <th>Longitude</th>\n",
       "      <th>Latitude</th>\n",
       "      <th>Cuisines</th>\n",
       "      <th>...</th>\n",
       "      <th>Currency</th>\n",
       "      <th>Has Table booking</th>\n",
       "      <th>Has Online delivery</th>\n",
       "      <th>Is delivering now</th>\n",
       "      <th>Switch to order menu</th>\n",
       "      <th>Price range</th>\n",
       "      <th>Aggregate rating</th>\n",
       "      <th>Rating color</th>\n",
       "      <th>Rating text</th>\n",
       "      <th>Votes</th>\n",
       "    </tr>\n",
       "  </thead>\n",
       "  <tbody>\n",
       "    <tr>\n",
       "      <th>624</th>\n",
       "      <td>3400025</td>\n",
       "      <td>Jahanpanah</td>\n",
       "      <td>1</td>\n",
       "      <td>Agra</td>\n",
       "      <td>E 23, Shopping Arcade, Sadar Bazaar, Agra Cant...</td>\n",
       "      <td>Agra Cantt</td>\n",
       "      <td>Agra Cantt, Agra</td>\n",
       "      <td>78.011544</td>\n",
       "      <td>27.161661</td>\n",
       "      <td>[North Indian, Mughlai]</td>\n",
       "      <td>...</td>\n",
       "      <td>Indian Rupees(Rs.)</td>\n",
       "      <td>No</td>\n",
       "      <td>No</td>\n",
       "      <td>No</td>\n",
       "      <td>No</td>\n",
       "      <td>3</td>\n",
       "      <td>3.9</td>\n",
       "      <td>Yellow</td>\n",
       "      <td>Good</td>\n",
       "      <td>140</td>\n",
       "    </tr>\n",
       "    <tr>\n",
       "      <th>625</th>\n",
       "      <td>3400341</td>\n",
       "      <td>Rangrezz Restaurant</td>\n",
       "      <td>1</td>\n",
       "      <td>Agra</td>\n",
       "      <td>E-20, Shopping Arcade, Sadar Bazaar, Agra Cant...</td>\n",
       "      <td>Agra Cantt</td>\n",
       "      <td>Agra Cantt, Agra</td>\n",
       "      <td>0.000000</td>\n",
       "      <td>0.000000</td>\n",
       "      <td>[North Indian, Mughlai]</td>\n",
       "      <td>...</td>\n",
       "      <td>Indian Rupees(Rs.)</td>\n",
       "      <td>No</td>\n",
       "      <td>No</td>\n",
       "      <td>No</td>\n",
       "      <td>No</td>\n",
       "      <td>2</td>\n",
       "      <td>3.5</td>\n",
       "      <td>Yellow</td>\n",
       "      <td>Good</td>\n",
       "      <td>71</td>\n",
       "    </tr>\n",
       "    <tr>\n",
       "      <th>626</th>\n",
       "      <td>3400005</td>\n",
       "      <td>Time2Eat - Mama Chicken</td>\n",
       "      <td>1</td>\n",
       "      <td>Agra</td>\n",
       "      <td>Main Market, Sadar Bazaar, Agra Cantt, Agra</td>\n",
       "      <td>Agra Cantt</td>\n",
       "      <td>Agra Cantt, Agra</td>\n",
       "      <td>78.011608</td>\n",
       "      <td>27.160832</td>\n",
       "      <td>[North Indian]</td>\n",
       "      <td>...</td>\n",
       "      <td>Indian Rupees(Rs.)</td>\n",
       "      <td>No</td>\n",
       "      <td>No</td>\n",
       "      <td>No</td>\n",
       "      <td>No</td>\n",
       "      <td>2</td>\n",
       "      <td>3.6</td>\n",
       "      <td>Yellow</td>\n",
       "      <td>Good</td>\n",
       "      <td>94</td>\n",
       "    </tr>\n",
       "    <tr>\n",
       "      <th>627</th>\n",
       "      <td>3400021</td>\n",
       "      <td>Chokho Jeeman Marwari Jain Bhojanalya</td>\n",
       "      <td>1</td>\n",
       "      <td>Agra</td>\n",
       "      <td>1/48, Delhi Gate, Station Road, Raja Mandi, Ci...</td>\n",
       "      <td>Civil Lines</td>\n",
       "      <td>Civil Lines, Agra</td>\n",
       "      <td>77.998092</td>\n",
       "      <td>27.195928</td>\n",
       "      <td>[Rajasthani]</td>\n",
       "      <td>...</td>\n",
       "      <td>Indian Rupees(Rs.)</td>\n",
       "      <td>No</td>\n",
       "      <td>No</td>\n",
       "      <td>No</td>\n",
       "      <td>No</td>\n",
       "      <td>2</td>\n",
       "      <td>4.0</td>\n",
       "      <td>Green</td>\n",
       "      <td>Very Good</td>\n",
       "      <td>87</td>\n",
       "    </tr>\n",
       "    <tr>\n",
       "      <th>628</th>\n",
       "      <td>3400017</td>\n",
       "      <td>Pinch Of Spice</td>\n",
       "      <td>1</td>\n",
       "      <td>Agra</td>\n",
       "      <td>23/453, Opposite Sanjay Cinema, Wazipura Road,...</td>\n",
       "      <td>Civil Lines</td>\n",
       "      <td>Civil Lines, Agra</td>\n",
       "      <td>78.007553</td>\n",
       "      <td>27.201725</td>\n",
       "      <td>[North Indian, Chinese, Mughlai]</td>\n",
       "      <td>...</td>\n",
       "      <td>Indian Rupees(Rs.)</td>\n",
       "      <td>No</td>\n",
       "      <td>No</td>\n",
       "      <td>No</td>\n",
       "      <td>No</td>\n",
       "      <td>3</td>\n",
       "      <td>4.2</td>\n",
       "      <td>Green</td>\n",
       "      <td>Very Good</td>\n",
       "      <td>177</td>\n",
       "    </tr>\n",
       "    <tr>\n",
       "      <th>...</th>\n",
       "      <td>...</td>\n",
       "      <td>...</td>\n",
       "      <td>...</td>\n",
       "      <td>...</td>\n",
       "      <td>...</td>\n",
       "      <td>...</td>\n",
       "      <td>...</td>\n",
       "      <td>...</td>\n",
       "      <td>...</td>\n",
       "      <td>...</td>\n",
       "      <td>...</td>\n",
       "      <td>...</td>\n",
       "      <td>...</td>\n",
       "      <td>...</td>\n",
       "      <td>...</td>\n",
       "      <td>...</td>\n",
       "      <td>...</td>\n",
       "      <td>...</td>\n",
       "      <td>...</td>\n",
       "      <td>...</td>\n",
       "      <td>...</td>\n",
       "    </tr>\n",
       "    <tr>\n",
       "      <th>9271</th>\n",
       "      <td>2800100</td>\n",
       "      <td>D Cabana</td>\n",
       "      <td>1</td>\n",
       "      <td>Vizag</td>\n",
       "      <td>Beach Road, Near Bus Stop, Sagar Nagar, Visakh...</td>\n",
       "      <td>Sagar Nagar</td>\n",
       "      <td>Sagar Nagar, Vizag</td>\n",
       "      <td>83.361377</td>\n",
       "      <td>17.764287</td>\n",
       "      <td>[Continental, Seafood, Chinese, North Indian, ...</td>\n",
       "      <td>...</td>\n",
       "      <td>Indian Rupees(Rs.)</td>\n",
       "      <td>No</td>\n",
       "      <td>No</td>\n",
       "      <td>No</td>\n",
       "      <td>No</td>\n",
       "      <td>2</td>\n",
       "      <td>3.6</td>\n",
       "      <td>Yellow</td>\n",
       "      <td>Good</td>\n",
       "      <td>193</td>\n",
       "    </tr>\n",
       "    <tr>\n",
       "      <th>9272</th>\n",
       "      <td>2800418</td>\n",
       "      <td>Kaloreez</td>\n",
       "      <td>1</td>\n",
       "      <td>Vizag</td>\n",
       "      <td>Plot 95, Opposite St. Lukes Nursing School, Da...</td>\n",
       "      <td>Siripuram</td>\n",
       "      <td>Siripuram, Vizag</td>\n",
       "      <td>0.000000</td>\n",
       "      <td>0.000000</td>\n",
       "      <td>[Cafe, North Indian, Chinese]</td>\n",
       "      <td>...</td>\n",
       "      <td>Indian Rupees(Rs.)</td>\n",
       "      <td>No</td>\n",
       "      <td>No</td>\n",
       "      <td>No</td>\n",
       "      <td>No</td>\n",
       "      <td>2</td>\n",
       "      <td>3.7</td>\n",
       "      <td>Yellow</td>\n",
       "      <td>Good</td>\n",
       "      <td>85</td>\n",
       "    </tr>\n",
       "    <tr>\n",
       "      <th>9273</th>\n",
       "      <td>2800881</td>\n",
       "      <td>Plot 17</td>\n",
       "      <td>1</td>\n",
       "      <td>Vizag</td>\n",
       "      <td>Plot 17, Gangapur Layout, Siripuram, Vizag</td>\n",
       "      <td>Siripuram</td>\n",
       "      <td>Siripuram, Vizag</td>\n",
       "      <td>83.315281</td>\n",
       "      <td>17.719539</td>\n",
       "      <td>[Burger, Pizza, Biryani]</td>\n",
       "      <td>...</td>\n",
       "      <td>Indian Rupees(Rs.)</td>\n",
       "      <td>No</td>\n",
       "      <td>No</td>\n",
       "      <td>No</td>\n",
       "      <td>No</td>\n",
       "      <td>2</td>\n",
       "      <td>4.3</td>\n",
       "      <td>Green</td>\n",
       "      <td>Very Good</td>\n",
       "      <td>172</td>\n",
       "    </tr>\n",
       "    <tr>\n",
       "      <th>9274</th>\n",
       "      <td>2800042</td>\n",
       "      <td>Vista - The Park</td>\n",
       "      <td>1</td>\n",
       "      <td>Vizag</td>\n",
       "      <td>The Park, Beach Road, Pedda Waltair, Lawsons B...</td>\n",
       "      <td>The Park, Lawsons Bay</td>\n",
       "      <td>The Park, Lawsons Bay, Vizag</td>\n",
       "      <td>83.336840</td>\n",
       "      <td>17.721182</td>\n",
       "      <td>[American, North Indian, Thai, Continental]</td>\n",
       "      <td>...</td>\n",
       "      <td>Indian Rupees(Rs.)</td>\n",
       "      <td>No</td>\n",
       "      <td>No</td>\n",
       "      <td>No</td>\n",
       "      <td>No</td>\n",
       "      <td>4</td>\n",
       "      <td>3.8</td>\n",
       "      <td>Yellow</td>\n",
       "      <td>Good</td>\n",
       "      <td>74</td>\n",
       "    </tr>\n",
       "    <tr>\n",
       "      <th>9275</th>\n",
       "      <td>2800019</td>\n",
       "      <td>Flying Spaghetti Monster</td>\n",
       "      <td>1</td>\n",
       "      <td>Vizag</td>\n",
       "      <td>10-50-12/F2, Sai Dakshata Complex, Beside Leno...</td>\n",
       "      <td>Waltair Uplands</td>\n",
       "      <td>Waltair Uplands, Vizag</td>\n",
       "      <td>83.314942</td>\n",
       "      <td>17.721119</td>\n",
       "      <td>[Italian]</td>\n",
       "      <td>...</td>\n",
       "      <td>Indian Rupees(Rs.)</td>\n",
       "      <td>No</td>\n",
       "      <td>No</td>\n",
       "      <td>No</td>\n",
       "      <td>No</td>\n",
       "      <td>3</td>\n",
       "      <td>4.4</td>\n",
       "      <td>Green</td>\n",
       "      <td>Very Good</td>\n",
       "      <td>316</td>\n",
       "    </tr>\n",
       "  </tbody>\n",
       "</table>\n",
       "<p>8652 rows × 21 columns</p>\n",
       "</div>"
      ],
      "text/plain": [
       "      Restaurant ID                        Restaurant Name  Country Code  \\\n",
       "624         3400025                             Jahanpanah             1   \n",
       "625         3400341                    Rangrezz Restaurant             1   \n",
       "626         3400005                Time2Eat - Mama Chicken             1   \n",
       "627         3400021  Chokho Jeeman Marwari Jain Bhojanalya             1   \n",
       "628         3400017                         Pinch Of Spice             1   \n",
       "...             ...                                    ...           ...   \n",
       "9271        2800100                               D Cabana             1   \n",
       "9272        2800418                               Kaloreez             1   \n",
       "9273        2800881                                Plot 17             1   \n",
       "9274        2800042                       Vista - The Park             1   \n",
       "9275        2800019               Flying Spaghetti Monster             1   \n",
       "\n",
       "       City                                            Address  \\\n",
       "624    Agra  E 23, Shopping Arcade, Sadar Bazaar, Agra Cant...   \n",
       "625    Agra  E-20, Shopping Arcade, Sadar Bazaar, Agra Cant...   \n",
       "626    Agra        Main Market, Sadar Bazaar, Agra Cantt, Agra   \n",
       "627    Agra  1/48, Delhi Gate, Station Road, Raja Mandi, Ci...   \n",
       "628    Agra  23/453, Opposite Sanjay Cinema, Wazipura Road,...   \n",
       "...     ...                                                ...   \n",
       "9271  Vizag  Beach Road, Near Bus Stop, Sagar Nagar, Visakh...   \n",
       "9272  Vizag  Plot 95, Opposite St. Lukes Nursing School, Da...   \n",
       "9273  Vizag         Plot 17, Gangapur Layout, Siripuram, Vizag   \n",
       "9274  Vizag  The Park, Beach Road, Pedda Waltair, Lawsons B...   \n",
       "9275  Vizag  10-50-12/F2, Sai Dakshata Complex, Beside Leno...   \n",
       "\n",
       "                   Locality              Locality Verbose  Longitude  \\\n",
       "624              Agra Cantt              Agra Cantt, Agra  78.011544   \n",
       "625              Agra Cantt              Agra Cantt, Agra   0.000000   \n",
       "626              Agra Cantt              Agra Cantt, Agra  78.011608   \n",
       "627             Civil Lines             Civil Lines, Agra  77.998092   \n",
       "628             Civil Lines             Civil Lines, Agra  78.007553   \n",
       "...                     ...                           ...        ...   \n",
       "9271            Sagar Nagar            Sagar Nagar, Vizag  83.361377   \n",
       "9272              Siripuram              Siripuram, Vizag   0.000000   \n",
       "9273              Siripuram              Siripuram, Vizag  83.315281   \n",
       "9274  The Park, Lawsons Bay  The Park, Lawsons Bay, Vizag  83.336840   \n",
       "9275        Waltair Uplands        Waltair Uplands, Vizag  83.314942   \n",
       "\n",
       "       Latitude                                           Cuisines  ...  \\\n",
       "624   27.161661                            [North Indian, Mughlai]  ...   \n",
       "625    0.000000                            [North Indian, Mughlai]  ...   \n",
       "626   27.160832                                     [North Indian]  ...   \n",
       "627   27.195928                                       [Rajasthani]  ...   \n",
       "628   27.201725                   [North Indian, Chinese, Mughlai]  ...   \n",
       "...         ...                                                ...  ...   \n",
       "9271  17.764287  [Continental, Seafood, Chinese, North Indian, ...  ...   \n",
       "9272   0.000000                      [Cafe, North Indian, Chinese]  ...   \n",
       "9273  17.719539                           [Burger, Pizza, Biryani]  ...   \n",
       "9274  17.721182        [American, North Indian, Thai, Continental]  ...   \n",
       "9275  17.721119                                          [Italian]  ...   \n",
       "\n",
       "                Currency Has Table booking Has Online delivery  \\\n",
       "624   Indian Rupees(Rs.)                No                  No   \n",
       "625   Indian Rupees(Rs.)                No                  No   \n",
       "626   Indian Rupees(Rs.)                No                  No   \n",
       "627   Indian Rupees(Rs.)                No                  No   \n",
       "628   Indian Rupees(Rs.)                No                  No   \n",
       "...                  ...               ...                 ...   \n",
       "9271  Indian Rupees(Rs.)                No                  No   \n",
       "9272  Indian Rupees(Rs.)                No                  No   \n",
       "9273  Indian Rupees(Rs.)                No                  No   \n",
       "9274  Indian Rupees(Rs.)                No                  No   \n",
       "9275  Indian Rupees(Rs.)                No                  No   \n",
       "\n",
       "     Is delivering now Switch to order menu Price range  Aggregate rating  \\\n",
       "624                 No                   No           3               3.9   \n",
       "625                 No                   No           2               3.5   \n",
       "626                 No                   No           2               3.6   \n",
       "627                 No                   No           2               4.0   \n",
       "628                 No                   No           3               4.2   \n",
       "...                ...                  ...         ...               ...   \n",
       "9271                No                   No           2               3.6   \n",
       "9272                No                   No           2               3.7   \n",
       "9273                No                   No           2               4.3   \n",
       "9274                No                   No           4               3.8   \n",
       "9275                No                   No           3               4.4   \n",
       "\n",
       "      Rating color Rating text Votes  \n",
       "624         Yellow        Good   140  \n",
       "625         Yellow        Good    71  \n",
       "626         Yellow        Good    94  \n",
       "627          Green   Very Good    87  \n",
       "628          Green   Very Good   177  \n",
       "...            ...         ...   ...  \n",
       "9271        Yellow        Good   193  \n",
       "9272        Yellow        Good    85  \n",
       "9273         Green   Very Good   172  \n",
       "9274        Yellow        Good    74  \n",
       "9275         Green   Very Good   316  \n",
       "\n",
       "[8652 rows x 21 columns]"
      ]
     },
     "execution_count": 187,
     "metadata": {},
     "output_type": "execute_result"
    }
   ],
   "source": [
    "df[df[\"Currency\"]==\"Indian Rupees(Rs.)\"]"
   ]
  },
  {
   "cell_type": "code",
   "execution_count": 188,
   "id": "f412b462-2bf9-4546-979a-a0710e5b98cc",
   "metadata": {},
   "outputs": [
    {
     "data": {
      "text/plain": [
       "<Axes: xlabel='Currency'>"
      ]
     },
     "execution_count": 188,
     "metadata": {},
     "output_type": "execute_result"
    },
    {
     "name": "stderr",
     "output_type": "stream",
     "text": [
      "C:\\Users\\ASUS\\anaconda3\\Lib\\site-packages\\IPython\\core\\events.py:82: UserWarning: Glyph 140 (\\x8c) missing from font(s) DejaVu Sans.\n",
      "  func(*args, **kwargs)\n",
      "C:\\Users\\ASUS\\anaconda3\\Lib\\site-packages\\IPython\\core\\pylabtools.py:170: UserWarning: Glyph 140 (\\x8c) missing from font(s) DejaVu Sans.\n",
      "  fig.canvas.print_figure(bytes_io, **kw)\n"
     ]
    },
    {
     "data": {
      "image/png": "[encoded data removed]",
      "text/plain": [
       "<Figure size 640x480 with 1 Axes>"
      ]
     },
     "metadata": {},
     "output_type": "display_data"
    }
   ],
   "source": [
    "df[\"Currency\"].value_counts().head().plot(kind=\"bar\")"
   ]
  },
  {
   "cell_type": "code",
   "execution_count": 189,
   "id": "14590a81-6c21-485c-a322-3166fcb47863",
   "metadata": {},
   "outputs": [
    {
     "data": {
      "text/plain": [
       "Has Table booking\n",
       "No     8393\n",
       "Yes    1158\n",
       "Name: count, dtype: int64"
      ]
     },
     "execution_count": 189,
     "metadata": {},
     "output_type": "execute_result"
    }
   ],
   "source": [
    "df[\"Has Table booking\"].value_counts()"
   ]
  },
  {
   "cell_type": "code",
   "execution_count": 190,
   "id": "372d04d6-e36c-4193-a1c1-eab142b7be33",
   "metadata": {},
   "outputs": [
    {
     "data": {
      "text/plain": [
       "Switch to order menu\n",
       "No    9551\n",
       "Name: count, dtype: int64"
      ]
     },
     "execution_count": 190,
     "metadata": {},
     "output_type": "execute_result"
    }
   ],
   "source": [
    "df[\"Has Online delivery\"].value_counts()\n",
    "df[\"Switch to order menu\"].value_counts()"
   ]
  },
  {
   "cell_type": "code",
   "execution_count": 191,
   "id": "e0d000eb-3844-4ea9-918b-27aedd9ec788",
   "metadata": {},
   "outputs": [],
   "source": [
    "df = df.drop(columns=[\"Switch to order menu\"])"
   ]
  },
  {
   "cell_type": "code",
   "execution_count": 192,
   "id": "3f412d3f-029b-459d-a2c2-d165cb481212",
   "metadata": {},
   "outputs": [
    {
     "name": "stdout",
     "output_type": "stream",
     "text": [
      "<class 'pandas.core.frame.DataFrame'>\n",
      "RangeIndex: 9551 entries, 0 to 9550\n",
      "Data columns (total 20 columns):\n",
      " #   Column                Non-Null Count  Dtype  \n",
      "---  ------                --------------  -----  \n",
      " 0   Restaurant ID         9551 non-null   int64  \n",
      " 1   Restaurant Name       9551 non-null   object \n",
      " 2   Country Code          9551 non-null   int64  \n",
      " 3   City                  9551 non-null   object \n",
      " 4   Address               9551 non-null   object \n",
      " 5   Locality              9551 non-null   object \n",
      " 6   Locality Verbose      9551 non-null   object \n",
      " 7   Longitude             9551 non-null   float64\n",
      " 8   Latitude              9551 non-null   float64\n",
      " 9   Cuisines              9551 non-null   object \n",
      " 10  Average Cost for two  9551 non-null   int64  \n",
      " 11  Currency              9551 non-null   object \n",
      " 12  Has Table booking     9551 non-null   object \n",
      " 13  Has Online delivery   9551 non-null   object \n",
      " 14  Is delivering now     9551 non-null   object \n",
      " 15  Price range           9551 non-null   int64  \n",
      " 16  Aggregate rating      9551 non-null   float64\n",
      " 17  Rating color          9551 non-null   object \n",
      " 18  Rating text           9551 non-null   object \n",
      " 19  Votes                 9551 non-null   int64  \n",
      "dtypes: float64(3), int64(5), object(12)\n",
      "memory usage: 1.5+ MB\n"
     ]
    }
   ],
   "source": [
    "df.info()"
   ]
  },
  {
   "cell_type": "code",
   "execution_count": 193,
   "id": "6b07c5f6-915c-41b5-bbad-c50553e36d61",
   "metadata": {},
   "outputs": [
    {
     "data": {
      "text/plain": [
       "array([3, 4, 2, 1], dtype=int64)"
      ]
     },
     "execution_count": 193,
     "metadata": {},
     "output_type": "execute_result"
    }
   ],
   "source": [
    "df[\"Price range\"].unique()"
   ]
  },
  {
   "cell_type": "code",
   "execution_count": 194,
   "id": "f75648d4-802d-4dc4-bf5d-b57f18537166",
   "metadata": {},
   "outputs": [
    {
     "data": {
      "text/plain": [
       "Price range\n",
       "1    4444\n",
       "2    3113\n",
       "3    1408\n",
       "4     586\n",
       "Name: Average Cost for two, dtype: int64"
      ]
     },
     "execution_count": 194,
     "metadata": {},
     "output_type": "execute_result"
    }
   ],
   "source": [
    "df.groupby(\"Price range\")[\"Average Cost for two\"].count()"
   ]
  },
  {
   "cell_type": "code",
   "execution_count": 195,
   "id": "3acc6b4d-674e-4350-876b-f429a2b90eb5",
   "metadata": {},
   "outputs": [
    {
     "data": {
      "text/html": [
       "<div>\n",
       "<style scoped>\n",
       "    .dataframe tbody tr th:only-of-type {\n",
       "        vertical-align: middle;\n",
       "    }\n",
       "\n",
       "    .dataframe tbody tr th {\n",
       "        vertical-align: top;\n",
       "    }\n",
       "\n",
       "    .dataframe thead tr th {\n",
       "        text-align: left;\n",
       "    }\n",
       "\n",
       "    .dataframe thead tr:last-of-type th {\n",
       "        text-align: right;\n",
       "    }\n",
       "</style>\n",
       "<table border=\"1\" class=\"dataframe\">\n",
       "  <thead>\n",
       "    <tr>\n",
       "      <th></th>\n",
       "      <th>mean</th>\n",
       "      <th>count</th>\n",
       "      <th>sum</th>\n",
       "    </tr>\n",
       "    <tr>\n",
       "      <th></th>\n",
       "      <th>Average Cost for two</th>\n",
       "      <th>Average Cost for two</th>\n",
       "      <th>Average Cost for two</th>\n",
       "    </tr>\n",
       "    <tr>\n",
       "      <th>Price range</th>\n",
       "      <th></th>\n",
       "      <th></th>\n",
       "      <th></th>\n",
       "    </tr>\n",
       "  </thead>\n",
       "  <tbody>\n",
       "    <tr>\n",
       "      <th>1</th>\n",
       "      <td>275.182943</td>\n",
       "      <td>4444</td>\n",
       "      <td>1222913</td>\n",
       "    </tr>\n",
       "    <tr>\n",
       "      <th>2</th>\n",
       "      <td>596.826213</td>\n",
       "      <td>3113</td>\n",
       "      <td>1857920</td>\n",
       "    </tr>\n",
       "    <tr>\n",
       "      <th>3</th>\n",
       "      <td>5177.268466</td>\n",
       "      <td>1408</td>\n",
       "      <td>7289594</td>\n",
       "    </tr>\n",
       "    <tr>\n",
       "      <th>4</th>\n",
       "      <td>1848.523891</td>\n",
       "      <td>586</td>\n",
       "      <td>1083235</td>\n",
       "    </tr>\n",
       "  </tbody>\n",
       "</table>\n",
       "</div>"
      ],
      "text/plain": [
       "                            mean                count                  sum\n",
       "            Average Cost for two Average Cost for two Average Cost for two\n",
       "Price range                                                               \n",
       "1                     275.182943                 4444              1222913\n",
       "2                     596.826213                 3113              1857920\n",
       "3                    5177.268466                 1408              7289594\n",
       "4                    1848.523891                  586              1083235"
      ]
     },
     "execution_count": 195,
     "metadata": {},
     "output_type": "execute_result"
    }
   ],
   "source": [
    "\n",
    "df.pivot_table(index=\"Price range\", values=\"Average Cost for two\", aggfunc=[\"mean\",\"count\",\"sum\"])\n"
   ]
  },
  {
   "cell_type": "code",
   "execution_count": 196,
   "id": "63c989ab-5b81-406f-a770-c0ce8cf90e1e",
   "metadata": {},
   "outputs": [],
   "source": [
    "# "
   ]
  },
  {
   "cell_type": "code",
   "execution_count": 197,
   "id": "af36c7a5-7292-45c4-9519-4ac0c04b9c18",
   "metadata": {},
   "outputs": [
    {
     "data": {
      "text/plain": [
       "array(['Botswana Pula(P)', 'Brazilian Real(R$)', 'Dollar($)',\n",
       "       'Emirati Diram(AED)', 'Indian Rupees(Rs.)',\n",
       "       'Indonesian Rupiah(IDR)', 'NewZealand($)', 'Pounds(\\x8c£)',\n",
       "       'Qatari Rial(QR)', 'Rand(R)', 'Sri Lankan Rupee(LKR)',\n",
       "       'Turkish Lira(TL)'], dtype=object)"
      ]
     },
     "execution_count": 197,
     "metadata": {},
     "output_type": "execute_result"
    }
   ],
   "source": [
    "df[\"Currency\"].unique()"
   ]
  },
  {
   "cell_type": "code",
   "execution_count": 198,
   "id": "b0257165-9af8-48d1-aa60-1e1964901346",
   "metadata": {},
   "outputs": [],
   "source": [
    "rates_to_inr = {\n",
    "    'Botswana Pula(P)': 6.44,\n",
    "    'Brazilian Real(R$)': 15.53,\n",
    "    'Dollar($)': 86.09,\n",
    "    'Emirati Diram(AED)': 23.45,\n",
    "    'Indian Rupees(Rs.)': 1.0,\n",
    "    'Indonesian Rupiah(IDR)': 0.0053,\n",
    "    'NewZealand($)': 51.31,\n",
    "    'Pounds(\\x8c£)': 115.59,\n",
    "    'Qatari Rial(QR)': 23.63,\n",
    "    'Rand(R)': 4.80,\n",
    "    'Sri Lankan Rupee(LKR)': 0.29,\n",
    "    'Turkish Lira(TL)': 2.19\n",
    "}"
   ]
  },
  {
   "cell_type": "code",
   "execution_count": 199,
   "id": "a610e366-2c58-4362-9904-f0db5da379fc",
   "metadata": {},
   "outputs": [],
   "source": [
    "def cur_covrt(row):\n",
    " currency=row['Currency']\n",
    " cost=row['Average Cost for two']\n",
    " if currency in rates_to_inr:\n",
    "  return cost*rates_to_inr[currency]\n",
    " else:\n",
    "  return None\n",
    "df['Average Cost two person in INR']=df.apply(cur_covrt,axis=1)"
   ]
  },
  {
   "cell_type": "code",
   "execution_count": 200,
   "id": "84f87318-4d44-44f7-97f0-6ea81478da42",
   "metadata": {},
   "outputs": [
    {
     "data": {
      "text/html": [
       "<div>\n",
       "<style scoped>\n",
       "    .dataframe tbody tr th:only-of-type {\n",
       "        vertical-align: middle;\n",
       "    }\n",
       "\n",
       "    .dataframe tbody tr th {\n",
       "        vertical-align: top;\n",
       "    }\n",
       "\n",
       "    .dataframe thead th {\n",
       "        text-align: right;\n",
       "    }\n",
       "</style>\n",
       "<table border=\"1\" class=\"dataframe\">\n",
       "  <thead>\n",
       "    <tr style=\"text-align: right;\">\n",
       "      <th></th>\n",
       "      <th>Restaurant ID</th>\n",
       "      <th>Restaurant Name</th>\n",
       "      <th>Country Code</th>\n",
       "      <th>City</th>\n",
       "      <th>Address</th>\n",
       "      <th>Locality</th>\n",
       "      <th>Locality Verbose</th>\n",
       "      <th>Longitude</th>\n",
       "      <th>Latitude</th>\n",
       "      <th>Cuisines</th>\n",
       "      <th>...</th>\n",
       "      <th>Currency</th>\n",
       "      <th>Has Table booking</th>\n",
       "      <th>Has Online delivery</th>\n",
       "      <th>Is delivering now</th>\n",
       "      <th>Price range</th>\n",
       "      <th>Aggregate rating</th>\n",
       "      <th>Rating color</th>\n",
       "      <th>Rating text</th>\n",
       "      <th>Votes</th>\n",
       "      <th>Average Cost two person in INR</th>\n",
       "    </tr>\n",
       "  </thead>\n",
       "  <tbody>\n",
       "    <tr>\n",
       "      <th>0</th>\n",
       "      <td>6317637</td>\n",
       "      <td>Le Petit Souffle</td>\n",
       "      <td>162</td>\n",
       "      <td>Makati City</td>\n",
       "      <td>Third Floor, Century City Mall, Kalayaan Avenu...</td>\n",
       "      <td>Century City Mall, Poblacion, Makati City</td>\n",
       "      <td>Century City Mall, Poblacion, Makati City, Mak...</td>\n",
       "      <td>121.027535</td>\n",
       "      <td>14.565443</td>\n",
       "      <td>[French, Japanese, Desserts]</td>\n",
       "      <td>...</td>\n",
       "      <td>Botswana Pula(P)</td>\n",
       "      <td>Yes</td>\n",
       "      <td>No</td>\n",
       "      <td>No</td>\n",
       "      <td>3</td>\n",
       "      <td>4.8</td>\n",
       "      <td>Dark Green</td>\n",
       "      <td>Excellent</td>\n",
       "      <td>314</td>\n",
       "      <td>7084.00</td>\n",
       "    </tr>\n",
       "    <tr>\n",
       "      <th>1</th>\n",
       "      <td>6304287</td>\n",
       "      <td>Izakaya Kikufuji</td>\n",
       "      <td>162</td>\n",
       "      <td>Makati City</td>\n",
       "      <td>Little Tokyo, 2277 Chino Roces Avenue, Legaspi...</td>\n",
       "      <td>Little Tokyo, Legaspi Village, Makati City</td>\n",
       "      <td>Little Tokyo, Legaspi Village, Makati City, Ma...</td>\n",
       "      <td>121.014101</td>\n",
       "      <td>14.553708</td>\n",
       "      <td>[Japanese]</td>\n",
       "      <td>...</td>\n",
       "      <td>Botswana Pula(P)</td>\n",
       "      <td>Yes</td>\n",
       "      <td>No</td>\n",
       "      <td>No</td>\n",
       "      <td>3</td>\n",
       "      <td>4.5</td>\n",
       "      <td>Dark Green</td>\n",
       "      <td>Excellent</td>\n",
       "      <td>591</td>\n",
       "      <td>7728.00</td>\n",
       "    </tr>\n",
       "    <tr>\n",
       "      <th>2</th>\n",
       "      <td>6300002</td>\n",
       "      <td>Heat - Edsa Shangri-La</td>\n",
       "      <td>162</td>\n",
       "      <td>Mandaluyong City</td>\n",
       "      <td>Edsa Shangri-La, 1 Garden Way, Ortigas, Mandal...</td>\n",
       "      <td>Edsa Shangri-La, Ortigas, Mandaluyong City</td>\n",
       "      <td>Edsa Shangri-La, Ortigas, Mandaluyong City, Ma...</td>\n",
       "      <td>121.056831</td>\n",
       "      <td>14.581404</td>\n",
       "      <td>[Seafood, Asian, Filipino, Indian]</td>\n",
       "      <td>...</td>\n",
       "      <td>Botswana Pula(P)</td>\n",
       "      <td>Yes</td>\n",
       "      <td>No</td>\n",
       "      <td>No</td>\n",
       "      <td>4</td>\n",
       "      <td>4.4</td>\n",
       "      <td>Green</td>\n",
       "      <td>Very Good</td>\n",
       "      <td>270</td>\n",
       "      <td>25760.00</td>\n",
       "    </tr>\n",
       "    <tr>\n",
       "      <th>3</th>\n",
       "      <td>6318506</td>\n",
       "      <td>Ooma</td>\n",
       "      <td>162</td>\n",
       "      <td>Mandaluyong City</td>\n",
       "      <td>Third Floor, Mega Fashion Hall, SM Megamall, O...</td>\n",
       "      <td>SM Megamall, Ortigas, Mandaluyong City</td>\n",
       "      <td>SM Megamall, Ortigas, Mandaluyong City, Mandal...</td>\n",
       "      <td>121.056475</td>\n",
       "      <td>14.585318</td>\n",
       "      <td>[Japanese, Sushi]</td>\n",
       "      <td>...</td>\n",
       "      <td>Botswana Pula(P)</td>\n",
       "      <td>No</td>\n",
       "      <td>No</td>\n",
       "      <td>No</td>\n",
       "      <td>4</td>\n",
       "      <td>4.9</td>\n",
       "      <td>Dark Green</td>\n",
       "      <td>Excellent</td>\n",
       "      <td>365</td>\n",
       "      <td>9660.00</td>\n",
       "    </tr>\n",
       "    <tr>\n",
       "      <th>4</th>\n",
       "      <td>6314302</td>\n",
       "      <td>Sambo Kojin</td>\n",
       "      <td>162</td>\n",
       "      <td>Mandaluyong City</td>\n",
       "      <td>Third Floor, Mega Atrium, SM Megamall, Ortigas...</td>\n",
       "      <td>SM Megamall, Ortigas, Mandaluyong City</td>\n",
       "      <td>SM Megamall, Ortigas, Mandaluyong City, Mandal...</td>\n",
       "      <td>121.057508</td>\n",
       "      <td>14.584450</td>\n",
       "      <td>[Japanese, Korean]</td>\n",
       "      <td>...</td>\n",
       "      <td>Botswana Pula(P)</td>\n",
       "      <td>Yes</td>\n",
       "      <td>No</td>\n",
       "      <td>No</td>\n",
       "      <td>4</td>\n",
       "      <td>4.8</td>\n",
       "      <td>Dark Green</td>\n",
       "      <td>Excellent</td>\n",
       "      <td>229</td>\n",
       "      <td>9660.00</td>\n",
       "    </tr>\n",
       "    <tr>\n",
       "      <th>...</th>\n",
       "      <td>...</td>\n",
       "      <td>...</td>\n",
       "      <td>...</td>\n",
       "      <td>...</td>\n",
       "      <td>...</td>\n",
       "      <td>...</td>\n",
       "      <td>...</td>\n",
       "      <td>...</td>\n",
       "      <td>...</td>\n",
       "      <td>...</td>\n",
       "      <td>...</td>\n",
       "      <td>...</td>\n",
       "      <td>...</td>\n",
       "      <td>...</td>\n",
       "      <td>...</td>\n",
       "      <td>...</td>\n",
       "      <td>...</td>\n",
       "      <td>...</td>\n",
       "      <td>...</td>\n",
       "      <td>...</td>\n",
       "      <td>...</td>\n",
       "    </tr>\n",
       "    <tr>\n",
       "      <th>9546</th>\n",
       "      <td>5915730</td>\n",
       "      <td>NamlÛ± Gurme</td>\n",
       "      <td>208</td>\n",
       "      <td>ÛÁstanbul</td>\n",
       "      <td>Kemankeô Karamustafa Paôa Mahallesi, RÛ±htÛ±...</td>\n",
       "      <td>Karakí_y</td>\n",
       "      <td>Karakí_y, ÛÁstanbul</td>\n",
       "      <td>28.977392</td>\n",
       "      <td>41.022793</td>\n",
       "      <td>[Turkish]</td>\n",
       "      <td>...</td>\n",
       "      <td>Turkish Lira(TL)</td>\n",
       "      <td>No</td>\n",
       "      <td>No</td>\n",
       "      <td>No</td>\n",
       "      <td>3</td>\n",
       "      <td>4.1</td>\n",
       "      <td>Green</td>\n",
       "      <td>Very Good</td>\n",
       "      <td>788</td>\n",
       "      <td>175.20</td>\n",
       "    </tr>\n",
       "    <tr>\n",
       "      <th>9547</th>\n",
       "      <td>5908749</td>\n",
       "      <td>Ceviz AÛôacÛ±</td>\n",
       "      <td>208</td>\n",
       "      <td>ÛÁstanbul</td>\n",
       "      <td>Koôuyolu Mahallesi, Muhittin íìstí_ndaÛô Cadd...</td>\n",
       "      <td>Koôuyolu</td>\n",
       "      <td>Koôuyolu, ÛÁstanbul</td>\n",
       "      <td>29.041297</td>\n",
       "      <td>41.009847</td>\n",
       "      <td>[World Cuisine, Patisserie, Cafe]</td>\n",
       "      <td>...</td>\n",
       "      <td>Turkish Lira(TL)</td>\n",
       "      <td>No</td>\n",
       "      <td>No</td>\n",
       "      <td>No</td>\n",
       "      <td>3</td>\n",
       "      <td>4.2</td>\n",
       "      <td>Green</td>\n",
       "      <td>Very Good</td>\n",
       "      <td>1034</td>\n",
       "      <td>229.95</td>\n",
       "    </tr>\n",
       "    <tr>\n",
       "      <th>9548</th>\n",
       "      <td>5915807</td>\n",
       "      <td>Huqqa</td>\n",
       "      <td>208</td>\n",
       "      <td>ÛÁstanbul</td>\n",
       "      <td>Kuruí_eôme Mahallesi, Muallim Naci Caddesi, N...</td>\n",
       "      <td>Kuruí_eôme</td>\n",
       "      <td>Kuruí_eôme, ÛÁstanbul</td>\n",
       "      <td>29.034640</td>\n",
       "      <td>41.055817</td>\n",
       "      <td>[Italian, World Cuisine]</td>\n",
       "      <td>...</td>\n",
       "      <td>Turkish Lira(TL)</td>\n",
       "      <td>No</td>\n",
       "      <td>No</td>\n",
       "      <td>No</td>\n",
       "      <td>4</td>\n",
       "      <td>3.7</td>\n",
       "      <td>Yellow</td>\n",
       "      <td>Good</td>\n",
       "      <td>661</td>\n",
       "      <td>372.30</td>\n",
       "    </tr>\n",
       "    <tr>\n",
       "      <th>9549</th>\n",
       "      <td>5916112</td>\n",
       "      <td>Aôôk Kahve</td>\n",
       "      <td>208</td>\n",
       "      <td>ÛÁstanbul</td>\n",
       "      <td>Kuruí_eôme Mahallesi, Muallim Naci Caddesi, N...</td>\n",
       "      <td>Kuruí_eôme</td>\n",
       "      <td>Kuruí_eôme, ÛÁstanbul</td>\n",
       "      <td>29.036019</td>\n",
       "      <td>41.057979</td>\n",
       "      <td>[Restaurant Cafe]</td>\n",
       "      <td>...</td>\n",
       "      <td>Turkish Lira(TL)</td>\n",
       "      <td>No</td>\n",
       "      <td>No</td>\n",
       "      <td>No</td>\n",
       "      <td>4</td>\n",
       "      <td>4.0</td>\n",
       "      <td>Green</td>\n",
       "      <td>Very Good</td>\n",
       "      <td>901</td>\n",
       "      <td>262.80</td>\n",
       "    </tr>\n",
       "    <tr>\n",
       "      <th>9550</th>\n",
       "      <td>5927402</td>\n",
       "      <td>Walter's Coffee Roastery</td>\n",
       "      <td>208</td>\n",
       "      <td>ÛÁstanbul</td>\n",
       "      <td>CafeaÛôa Mahallesi, BademaltÛ± Sokak, No 21/B,...</td>\n",
       "      <td>Moda</td>\n",
       "      <td>Moda, ÛÁstanbul</td>\n",
       "      <td>29.026016</td>\n",
       "      <td>40.984776</td>\n",
       "      <td>[Cafe]</td>\n",
       "      <td>...</td>\n",
       "      <td>Turkish Lira(TL)</td>\n",
       "      <td>No</td>\n",
       "      <td>No</td>\n",
       "      <td>No</td>\n",
       "      <td>2</td>\n",
       "      <td>4.0</td>\n",
       "      <td>Green</td>\n",
       "      <td>Very Good</td>\n",
       "      <td>591</td>\n",
       "      <td>120.45</td>\n",
       "    </tr>\n",
       "  </tbody>\n",
       "</table>\n",
       "<p>9551 rows × 21 columns</p>\n",
       "</div>"
      ],
      "text/plain": [
       "      Restaurant ID           Restaurant Name  Country Code              City  \\\n",
       "0           6317637          Le Petit Souffle           162       Makati City   \n",
       "1           6304287          Izakaya Kikufuji           162       Makati City   \n",
       "2           6300002    Heat - Edsa Shangri-La           162  Mandaluyong City   \n",
       "3           6318506                      Ooma           162  Mandaluyong City   \n",
       "4           6314302               Sambo Kojin           162  Mandaluyong City   \n",
       "...             ...                       ...           ...               ...   \n",
       "9546        5915730              NamlÛ± Gurme           208         ÛÁstanbul   \n",
       "9547        5908749             Ceviz AÛôacÛ±           208         ÛÁstanbul   \n",
       "9548        5915807                     Huqqa           208         ÛÁstanbul   \n",
       "9549        5916112              Aôôk Kahve           208         ÛÁstanbul   \n",
       "9550        5927402  Walter's Coffee Roastery           208         ÛÁstanbul   \n",
       "\n",
       "                                                Address  \\\n",
       "0     Third Floor, Century City Mall, Kalayaan Avenu...   \n",
       "1     Little Tokyo, 2277 Chino Roces Avenue, Legaspi...   \n",
       "2     Edsa Shangri-La, 1 Garden Way, Ortigas, Mandal...   \n",
       "3     Third Floor, Mega Fashion Hall, SM Megamall, O...   \n",
       "4     Third Floor, Mega Atrium, SM Megamall, Ortigas...   \n",
       "...                                                 ...   \n",
       "9546  Kemankeô Karamustafa Paôa Mahallesi, RÛ±htÛ±...   \n",
       "9547  Koôuyolu Mahallesi, Muhittin íìstí_ndaÛô Cadd...   \n",
       "9548  Kuruí_eôme Mahallesi, Muallim Naci Caddesi, N...   \n",
       "9549  Kuruí_eôme Mahallesi, Muallim Naci Caddesi, N...   \n",
       "9550  CafeaÛôa Mahallesi, BademaltÛ± Sokak, No 21/B,...   \n",
       "\n",
       "                                        Locality  \\\n",
       "0      Century City Mall, Poblacion, Makati City   \n",
       "1     Little Tokyo, Legaspi Village, Makati City   \n",
       "2     Edsa Shangri-La, Ortigas, Mandaluyong City   \n",
       "3         SM Megamall, Ortigas, Mandaluyong City   \n",
       "4         SM Megamall, Ortigas, Mandaluyong City   \n",
       "...                                          ...   \n",
       "9546                                    Karakí_y   \n",
       "9547                                   Koôuyolu   \n",
       "9548                                 Kuruí_eôme   \n",
       "9549                                 Kuruí_eôme   \n",
       "9550                                        Moda   \n",
       "\n",
       "                                       Locality Verbose   Longitude  \\\n",
       "0     Century City Mall, Poblacion, Makati City, Mak...  121.027535   \n",
       "1     Little Tokyo, Legaspi Village, Makati City, Ma...  121.014101   \n",
       "2     Edsa Shangri-La, Ortigas, Mandaluyong City, Ma...  121.056831   \n",
       "3     SM Megamall, Ortigas, Mandaluyong City, Mandal...  121.056475   \n",
       "4     SM Megamall, Ortigas, Mandaluyong City, Mandal...  121.057508   \n",
       "...                                                 ...         ...   \n",
       "9546                                Karakí_y, ÛÁstanbul   28.977392   \n",
       "9547                               Koôuyolu, ÛÁstanbul   29.041297   \n",
       "9548                             Kuruí_eôme, ÛÁstanbul   29.034640   \n",
       "9549                             Kuruí_eôme, ÛÁstanbul   29.036019   \n",
       "9550                                    Moda, ÛÁstanbul   29.026016   \n",
       "\n",
       "       Latitude                            Cuisines  ...          Currency  \\\n",
       "0     14.565443        [French, Japanese, Desserts]  ...  Botswana Pula(P)   \n",
       "1     14.553708                          [Japanese]  ...  Botswana Pula(P)   \n",
       "2     14.581404  [Seafood, Asian, Filipino, Indian]  ...  Botswana Pula(P)   \n",
       "3     14.585318                   [Japanese, Sushi]  ...  Botswana Pula(P)   \n",
       "4     14.584450                  [Japanese, Korean]  ...  Botswana Pula(P)   \n",
       "...         ...                                 ...  ...               ...   \n",
       "9546  41.022793                           [Turkish]  ...  Turkish Lira(TL)   \n",
       "9547  41.009847   [World Cuisine, Patisserie, Cafe]  ...  Turkish Lira(TL)   \n",
       "9548  41.055817            [Italian, World Cuisine]  ...  Turkish Lira(TL)   \n",
       "9549  41.057979                   [Restaurant Cafe]  ...  Turkish Lira(TL)   \n",
       "9550  40.984776                              [Cafe]  ...  Turkish Lira(TL)   \n",
       "\n",
       "     Has Table booking Has Online delivery Is delivering now Price range  \\\n",
       "0                  Yes                  No                No           3   \n",
       "1                  Yes                  No                No           3   \n",
       "2                  Yes                  No                No           4   \n",
       "3                   No                  No                No           4   \n",
       "4                  Yes                  No                No           4   \n",
       "...                ...                 ...               ...         ...   \n",
       "9546                No                  No                No           3   \n",
       "9547                No                  No                No           3   \n",
       "9548                No                  No                No           4   \n",
       "9549                No                  No                No           4   \n",
       "9550                No                  No                No           2   \n",
       "\n",
       "      Aggregate rating  Rating color Rating text Votes  \\\n",
       "0                  4.8    Dark Green   Excellent   314   \n",
       "1                  4.5    Dark Green   Excellent   591   \n",
       "2                  4.4         Green   Very Good   270   \n",
       "3                  4.9    Dark Green   Excellent   365   \n",
       "4                  4.8    Dark Green   Excellent   229   \n",
       "...                ...           ...         ...   ...   \n",
       "9546               4.1         Green   Very Good   788   \n",
       "9547               4.2         Green   Very Good  1034   \n",
       "9548               3.7        Yellow        Good   661   \n",
       "9549               4.0         Green   Very Good   901   \n",
       "9550               4.0         Green   Very Good   591   \n",
       "\n",
       "      Average Cost two person in INR  \n",
       "0                            7084.00  \n",
       "1                            7728.00  \n",
       "2                           25760.00  \n",
       "3                            9660.00  \n",
       "4                            9660.00  \n",
       "...                              ...  \n",
       "9546                          175.20  \n",
       "9547                          229.95  \n",
       "9548                          372.30  \n",
       "9549                          262.80  \n",
       "9550                          120.45  \n",
       "\n",
       "[9551 rows x 21 columns]"
      ]
     },
     "execution_count": 200,
     "metadata": {},
     "output_type": "execute_result"
    }
   ],
   "source": [
    "df"
   ]
  },
  {
   "cell_type": "code",
   "execution_count": 201,
   "id": "6ae035f0-f08d-4094-91ee-22a62a9e20bb",
   "metadata": {},
   "outputs": [
    {
     "data": {
      "text/html": [
       "<div>\n",
       "<style scoped>\n",
       "    .dataframe tbody tr th:only-of-type {\n",
       "        vertical-align: middle;\n",
       "    }\n",
       "\n",
       "    .dataframe tbody tr th {\n",
       "        vertical-align: top;\n",
       "    }\n",
       "\n",
       "    .dataframe thead tr th {\n",
       "        text-align: left;\n",
       "    }\n",
       "\n",
       "    .dataframe thead tr:last-of-type th {\n",
       "        text-align: right;\n",
       "    }\n",
       "</style>\n",
       "<table border=\"1\" class=\"dataframe\">\n",
       "  <thead>\n",
       "    <tr>\n",
       "      <th></th>\n",
       "      <th>mean</th>\n",
       "      <th>count</th>\n",
       "      <th>sum</th>\n",
       "    </tr>\n",
       "    <tr>\n",
       "      <th></th>\n",
       "      <th>Average Cost for two</th>\n",
       "      <th>Average Cost for two</th>\n",
       "      <th>Average Cost for two</th>\n",
       "    </tr>\n",
       "    <tr>\n",
       "      <th>Price range</th>\n",
       "      <th></th>\n",
       "      <th></th>\n",
       "      <th></th>\n",
       "    </tr>\n",
       "  </thead>\n",
       "  <tbody>\n",
       "    <tr>\n",
       "      <th>1</th>\n",
       "      <td>275.182943</td>\n",
       "      <td>4444</td>\n",
       "      <td>1222913</td>\n",
       "    </tr>\n",
       "    <tr>\n",
       "      <th>2</th>\n",
       "      <td>596.826213</td>\n",
       "      <td>3113</td>\n",
       "      <td>1857920</td>\n",
       "    </tr>\n",
       "    <tr>\n",
       "      <th>3</th>\n",
       "      <td>5177.268466</td>\n",
       "      <td>1408</td>\n",
       "      <td>7289594</td>\n",
       "    </tr>\n",
       "    <tr>\n",
       "      <th>4</th>\n",
       "      <td>1848.523891</td>\n",
       "      <td>586</td>\n",
       "      <td>1083235</td>\n",
       "    </tr>\n",
       "  </tbody>\n",
       "</table>\n",
       "</div>"
      ],
      "text/plain": [
       "                            mean                count                  sum\n",
       "            Average Cost for two Average Cost for two Average Cost for two\n",
       "Price range                                                               \n",
       "1                     275.182943                 4444              1222913\n",
       "2                     596.826213                 3113              1857920\n",
       "3                    5177.268466                 1408              7289594\n",
       "4                    1848.523891                  586              1083235"
      ]
     },
     "execution_count": 201,
     "metadata": {},
     "output_type": "execute_result"
    }
   ],
   "source": [
    "df.pivot_table(index=\"Price range\", values=\"Average Cost for two\", aggfunc=[\"mean\",\"count\",\"sum\"])"
   ]
  },
  {
   "cell_type": "code",
   "execution_count": 202,
   "id": "1e07324e-1add-42c9-9221-785f1d512418",
   "metadata": {},
   "outputs": [],
   "source": [
    "cost = df.pivot_table(index=\"Price range\", values='Average Cost two person in INR', aggfunc=[\"mean\",\"count\",\"sum\"])"
   ]
  },
  {
   "cell_type": "code",
   "execution_count": 203,
   "id": "b78165b1-76cc-4ad1-85e4-fb474520a9c7",
   "metadata": {},
   "outputs": [
    {
     "data": {
      "text/html": [
       "<div>\n",
       "<style scoped>\n",
       "    .dataframe tbody tr th:only-of-type {\n",
       "        vertical-align: middle;\n",
       "    }\n",
       "\n",
       "    .dataframe tbody tr th {\n",
       "        vertical-align: top;\n",
       "    }\n",
       "\n",
       "    .dataframe thead tr th {\n",
       "        text-align: left;\n",
       "    }\n",
       "\n",
       "    .dataframe thead tr:last-of-type th {\n",
       "        text-align: right;\n",
       "    }\n",
       "</style>\n",
       "<table border=\"1\" class=\"dataframe\">\n",
       "  <thead>\n",
       "    <tr>\n",
       "      <th></th>\n",
       "      <th>mean</th>\n",
       "      <th>count</th>\n",
       "      <th>sum</th>\n",
       "    </tr>\n",
       "    <tr>\n",
       "      <th></th>\n",
       "      <th>Average Cost two person in INR</th>\n",
       "      <th>Average Cost two person in INR</th>\n",
       "      <th>Average Cost two person in INR</th>\n",
       "    </tr>\n",
       "    <tr>\n",
       "      <th>Price range</th>\n",
       "      <th></th>\n",
       "      <th></th>\n",
       "      <th></th>\n",
       "    </tr>\n",
       "  </thead>\n",
       "  <tbody>\n",
       "    <tr>\n",
       "      <th>1</th>\n",
       "      <td>302.442793</td>\n",
       "      <td>4444</td>\n",
       "      <td>1344055.77</td>\n",
       "    </tr>\n",
       "    <tr>\n",
       "      <th>2</th>\n",
       "      <td>733.476309</td>\n",
       "      <td>3113</td>\n",
       "      <td>2283311.75</td>\n",
       "    </tr>\n",
       "    <tr>\n",
       "      <th>3</th>\n",
       "      <td>1614.410121</td>\n",
       "      <td>1408</td>\n",
       "      <td>2273089.45</td>\n",
       "    </tr>\n",
       "    <tr>\n",
       "      <th>4</th>\n",
       "      <td>3841.410154</td>\n",
       "      <td>586</td>\n",
       "      <td>2251066.35</td>\n",
       "    </tr>\n",
       "  </tbody>\n",
       "</table>\n",
       "</div>"
      ],
      "text/plain": [
       "                                      mean                          count  \\\n",
       "            Average Cost two person in INR Average Cost two person in INR   \n",
       "Price range                                                                 \n",
       "1                               302.442793                           4444   \n",
       "2                               733.476309                           3113   \n",
       "3                              1614.410121                           1408   \n",
       "4                              3841.410154                            586   \n",
       "\n",
       "                                       sum  \n",
       "            Average Cost two person in INR  \n",
       "Price range                                 \n",
       "1                               1344055.77  \n",
       "2                               2283311.75  \n",
       "3                               2273089.45  \n",
       "4                               2251066.35  "
      ]
     },
     "execution_count": 203,
     "metadata": {},
     "output_type": "execute_result"
    }
   ],
   "source": [
    "cost"
   ]
  },
  {
   "cell_type": "code",
   "execution_count": 204,
   "id": "c1af925a-5a43-4fb7-af3a-67ef12cdcb68",
   "metadata": {},
   "outputs": [],
   "source": [
    "cost = df.pivot_table(index=\"Price range\", \n",
    "                      values='Average Cost two person in INR', \n",
    "                      aggfunc=[\"mean\", \"count\", \"sum\"])\n",
    "\n",
    "# Flatten the MultiIndex columns\n",
    "cost.columns = ['_'.join(col).strip() for col in cost.columns.values]\n",
    "\n",
    "# Optional: reset index if you want a clean DataFrame\n",
    "cost = cost.reset_index()"
   ]
  },
  {
   "cell_type": "code",
   "execution_count": 205,
   "id": "ed58341c-138f-4db8-9f7f-959255441b0f",
   "metadata": {},
   "outputs": [
    {
     "data": {
      "text/plain": [
       "<Axes: xlabel='Price range', ylabel='sum_Average Cost two person in INR'>"
      ]
     },
     "execution_count": 205,
     "metadata": {},
     "output_type": "execute_result"
    },
    {
     "data": {
      "image/png": "[encoded data removed]",
      "text/plain": [
       "<Figure size 1500x300 with 3 Axes>"
      ]
     },
     "metadata": {},
     "output_type": "display_data"
    }
   ],
   "source": [
    "fig, ax = plt.subplots(1,3,figsize=(15,3))\n",
    "sns.barplot(data=cost,x=\"Price range\",y=\"mean_Average Cost two person in INR\",ax=ax[0])\n",
    "sns.barplot(data=cost,x=\"Price range\",y=\"count_Average Cost two person in INR\",ax=ax[1])\n",
    "sns.barplot(data=cost,x=\"Price range\",y=\"sum_Average Cost two person in INR\",ax=ax[2])"
   ]
  },
  {
   "cell_type": "code",
   "execution_count": 206,
   "id": "86d90c8c-f696-4762-87e5-52be16c127cf",
   "metadata": {},
   "outputs": [
    {
     "data": {
      "text/html": [
       "<div>\n",
       "<style scoped>\n",
       "    .dataframe tbody tr th:only-of-type {\n",
       "        vertical-align: middle;\n",
       "    }\n",
       "\n",
       "    .dataframe tbody tr th {\n",
       "        vertical-align: top;\n",
       "    }\n",
       "\n",
       "    .dataframe thead th {\n",
       "        text-align: right;\n",
       "    }\n",
       "</style>\n",
       "<table border=\"1\" class=\"dataframe\">\n",
       "  <thead>\n",
       "    <tr style=\"text-align: right;\">\n",
       "      <th></th>\n",
       "      <th>Price range</th>\n",
       "      <th>mean_Average Cost two person in INR</th>\n",
       "      <th>count_Average Cost two person in INR</th>\n",
       "      <th>sum_Average Cost two person in INR</th>\n",
       "    </tr>\n",
       "  </thead>\n",
       "  <tbody>\n",
       "    <tr>\n",
       "      <th>0</th>\n",
       "      <td>1</td>\n",
       "      <td>302.442793</td>\n",
       "      <td>4444</td>\n",
       "      <td>1344055.77</td>\n",
       "    </tr>\n",
       "    <tr>\n",
       "      <th>1</th>\n",
       "      <td>2</td>\n",
       "      <td>733.476309</td>\n",
       "      <td>3113</td>\n",
       "      <td>2283311.75</td>\n",
       "    </tr>\n",
       "    <tr>\n",
       "      <th>2</th>\n",
       "      <td>3</td>\n",
       "      <td>1614.410121</td>\n",
       "      <td>1408</td>\n",
       "      <td>2273089.45</td>\n",
       "    </tr>\n",
       "    <tr>\n",
       "      <th>3</th>\n",
       "      <td>4</td>\n",
       "      <td>3841.410154</td>\n",
       "      <td>586</td>\n",
       "      <td>2251066.35</td>\n",
       "    </tr>\n",
       "  </tbody>\n",
       "</table>\n",
       "</div>"
      ],
      "text/plain": [
       "   Price range  mean_Average Cost two person in INR  \\\n",
       "0            1                           302.442793   \n",
       "1            2                           733.476309   \n",
       "2            3                          1614.410121   \n",
       "3            4                          3841.410154   \n",
       "\n",
       "   count_Average Cost two person in INR  sum_Average Cost two person in INR  \n",
       "0                                  4444                          1344055.77  \n",
       "1                                  3113                          2283311.75  \n",
       "2                                  1408                          2273089.45  \n",
       "3                                   586                          2251066.35  "
      ]
     },
     "execution_count": 206,
     "metadata": {},
     "output_type": "execute_result"
    }
   ],
   "source": [
    "cost"
   ]
  },
  {
   "cell_type": "code",
   "execution_count": 207,
   "id": "d72e2d36-d79c-4e41-8fe9-98c7bc638f0b",
   "metadata": {},
   "outputs": [
    {
     "data": {
      "text/plain": [
       "Index(['Restaurant ID', 'Restaurant Name', 'Country Code', 'City', 'Address',\n",
       "       'Locality', 'Locality Verbose', 'Longitude', 'Latitude', 'Cuisines',\n",
       "       'Average Cost for two', 'Currency', 'Has Table booking',\n",
       "       'Has Online delivery', 'Is delivering now', 'Price range',\n",
       "       'Aggregate rating', 'Rating color', 'Rating text', 'Votes',\n",
       "       'Average Cost two person in INR'],\n",
       "      dtype='object')"
      ]
     },
     "execution_count": 207,
     "metadata": {},
     "output_type": "execute_result"
    }
   ],
   "source": [
    "df.columns"
   ]
  },
  {
   "cell_type": "code",
   "execution_count": 208,
   "id": "c9b4c2b1-fb5f-42c6-a9c6-58f3679d8cbd",
   "metadata": {},
   "outputs": [],
   "source": [
    "# in new delhi which cuisines is famous more "
   ]
  },
  {
   "cell_type": "code",
   "execution_count": 209,
   "id": "87633d71-8e75-43e7-b7cf-cd3acaaccc0a",
   "metadata": {},
   "outputs": [
    {
     "data": {
      "text/html": [
       "<div>\n",
       "<style scoped>\n",
       "    .dataframe tbody tr th:only-of-type {\n",
       "        vertical-align: middle;\n",
       "    }\n",
       "\n",
       "    .dataframe tbody tr th {\n",
       "        vertical-align: top;\n",
       "    }\n",
       "\n",
       "    .dataframe thead th {\n",
       "        text-align: right;\n",
       "    }\n",
       "</style>\n",
       "<table border=\"1\" class=\"dataframe\">\n",
       "  <thead>\n",
       "    <tr style=\"text-align: right;\">\n",
       "      <th></th>\n",
       "      <th>Restaurant ID</th>\n",
       "      <th>Restaurant Name</th>\n",
       "      <th>Country Code</th>\n",
       "      <th>City</th>\n",
       "      <th>Address</th>\n",
       "      <th>Locality</th>\n",
       "      <th>Locality Verbose</th>\n",
       "      <th>Longitude</th>\n",
       "      <th>Latitude</th>\n",
       "      <th>Cuisines</th>\n",
       "      <th>...</th>\n",
       "      <th>Currency</th>\n",
       "      <th>Has Table booking</th>\n",
       "      <th>Has Online delivery</th>\n",
       "      <th>Is delivering now</th>\n",
       "      <th>Price range</th>\n",
       "      <th>Aggregate rating</th>\n",
       "      <th>Rating color</th>\n",
       "      <th>Rating text</th>\n",
       "      <th>Votes</th>\n",
       "      <th>Average Cost two person in INR</th>\n",
       "    </tr>\n",
       "  </thead>\n",
       "  <tbody>\n",
       "    <tr>\n",
       "      <th>2560</th>\n",
       "      <td>18287358</td>\n",
       "      <td>Food Cloud</td>\n",
       "      <td>1</td>\n",
       "      <td>New Delhi</td>\n",
       "      <td>Aaya Nagar, New Delhi</td>\n",
       "      <td>Aaya Nagar</td>\n",
       "      <td>Aaya Nagar, New Delhi</td>\n",
       "      <td>0.000000</td>\n",
       "      <td>0.000000</td>\n",
       "      <td>[Cuisine Varies]</td>\n",
       "      <td>...</td>\n",
       "      <td>Indian Rupees(Rs.)</td>\n",
       "      <td>No</td>\n",
       "      <td>No</td>\n",
       "      <td>No</td>\n",
       "      <td>2</td>\n",
       "      <td>0.0</td>\n",
       "      <td>White</td>\n",
       "      <td>Not rated</td>\n",
       "      <td>2</td>\n",
       "      <td>500.0</td>\n",
       "    </tr>\n",
       "    <tr>\n",
       "      <th>2561</th>\n",
       "      <td>18216944</td>\n",
       "      <td>Burger.in</td>\n",
       "      <td>1</td>\n",
       "      <td>New Delhi</td>\n",
       "      <td>84, Near Honda Showroom, Adchini, New Delhi</td>\n",
       "      <td>Adchini</td>\n",
       "      <td>Adchini, New Delhi</td>\n",
       "      <td>77.196923</td>\n",
       "      <td>28.535382</td>\n",
       "      <td>[Fast Food]</td>\n",
       "      <td>...</td>\n",
       "      <td>Indian Rupees(Rs.)</td>\n",
       "      <td>No</td>\n",
       "      <td>Yes</td>\n",
       "      <td>No</td>\n",
       "      <td>1</td>\n",
       "      <td>3.2</td>\n",
       "      <td>Orange</td>\n",
       "      <td>Average</td>\n",
       "      <td>46</td>\n",
       "      <td>350.0</td>\n",
       "    </tr>\n",
       "    <tr>\n",
       "      <th>2562</th>\n",
       "      <td>313333</td>\n",
       "      <td>Days of the Raj</td>\n",
       "      <td>1</td>\n",
       "      <td>New Delhi</td>\n",
       "      <td>81/3, 1st Floor, Qutub Residency, Adchini, New...</td>\n",
       "      <td>Adchini</td>\n",
       "      <td>Adchini, New Delhi</td>\n",
       "      <td>77.197475</td>\n",
       "      <td>28.535493</td>\n",
       "      <td>[North Indian, Seafood, Continental]</td>\n",
       "      <td>...</td>\n",
       "      <td>Indian Rupees(Rs.)</td>\n",
       "      <td>Yes</td>\n",
       "      <td>Yes</td>\n",
       "      <td>No</td>\n",
       "      <td>3</td>\n",
       "      <td>3.4</td>\n",
       "      <td>Orange</td>\n",
       "      <td>Average</td>\n",
       "      <td>45</td>\n",
       "      <td>1500.0</td>\n",
       "    </tr>\n",
       "    <tr>\n",
       "      <th>2563</th>\n",
       "      <td>18384127</td>\n",
       "      <td>Dilli Ka Dhaba</td>\n",
       "      <td>1</td>\n",
       "      <td>New Delhi</td>\n",
       "      <td>66 A, Ground Floor, Sri Aurobindo Marg, Adchin...</td>\n",
       "      <td>Adchini</td>\n",
       "      <td>Adchini, New Delhi</td>\n",
       "      <td>77.198033</td>\n",
       "      <td>28.537547</td>\n",
       "      <td>[South Indian, North Indian]</td>\n",
       "      <td>...</td>\n",
       "      <td>Indian Rupees(Rs.)</td>\n",
       "      <td>No</td>\n",
       "      <td>No</td>\n",
       "      <td>No</td>\n",
       "      <td>2</td>\n",
       "      <td>2.6</td>\n",
       "      <td>Orange</td>\n",
       "      <td>Average</td>\n",
       "      <td>11</td>\n",
       "      <td>500.0</td>\n",
       "    </tr>\n",
       "    <tr>\n",
       "      <th>2564</th>\n",
       "      <td>582</td>\n",
       "      <td>Govardhan</td>\n",
       "      <td>1</td>\n",
       "      <td>New Delhi</td>\n",
       "      <td>84, Adjacent Hero Motor Bike Showroom, Main Me...</td>\n",
       "      <td>Adchini</td>\n",
       "      <td>Adchini, New Delhi</td>\n",
       "      <td>77.196924</td>\n",
       "      <td>28.535523</td>\n",
       "      <td>[South Indian, North Indian, Chinese]</td>\n",
       "      <td>...</td>\n",
       "      <td>Indian Rupees(Rs.)</td>\n",
       "      <td>No</td>\n",
       "      <td>Yes</td>\n",
       "      <td>No</td>\n",
       "      <td>2</td>\n",
       "      <td>3.4</td>\n",
       "      <td>Orange</td>\n",
       "      <td>Average</td>\n",
       "      <td>238</td>\n",
       "      <td>500.0</td>\n",
       "    </tr>\n",
       "    <tr>\n",
       "      <th>...</th>\n",
       "      <td>...</td>\n",
       "      <td>...</td>\n",
       "      <td>...</td>\n",
       "      <td>...</td>\n",
       "      <td>...</td>\n",
       "      <td>...</td>\n",
       "      <td>...</td>\n",
       "      <td>...</td>\n",
       "      <td>...</td>\n",
       "      <td>...</td>\n",
       "      <td>...</td>\n",
       "      <td>...</td>\n",
       "      <td>...</td>\n",
       "      <td>...</td>\n",
       "      <td>...</td>\n",
       "      <td>...</td>\n",
       "      <td>...</td>\n",
       "      <td>...</td>\n",
       "      <td>...</td>\n",
       "      <td>...</td>\n",
       "      <td>...</td>\n",
       "    </tr>\n",
       "    <tr>\n",
       "      <th>8028</th>\n",
       "      <td>18445274</td>\n",
       "      <td>Motu N Patlu</td>\n",
       "      <td>1</td>\n",
       "      <td>New Delhi</td>\n",
       "      <td>Batla House Chowk, Near Jamia Milia Islamia, O...</td>\n",
       "      <td>Zakir Nagar</td>\n",
       "      <td>Zakir Nagar, New Delhi</td>\n",
       "      <td>77.285065</td>\n",
       "      <td>28.566246</td>\n",
       "      <td>[Lebanese, North Indian, Fast Food]</td>\n",
       "      <td>...</td>\n",
       "      <td>Indian Rupees(Rs.)</td>\n",
       "      <td>No</td>\n",
       "      <td>No</td>\n",
       "      <td>No</td>\n",
       "      <td>1</td>\n",
       "      <td>0.0</td>\n",
       "      <td>White</td>\n",
       "      <td>Not rated</td>\n",
       "      <td>0</td>\n",
       "      <td>250.0</td>\n",
       "    </tr>\n",
       "    <tr>\n",
       "      <th>8029</th>\n",
       "      <td>18168147</td>\n",
       "      <td>S.K. Fast Food</td>\n",
       "      <td>1</td>\n",
       "      <td>New Delhi</td>\n",
       "      <td>161/32, Shop 3 Joga Bai, Main Road, Zakir Naga...</td>\n",
       "      <td>Zakir Nagar</td>\n",
       "      <td>Zakir Nagar, New Delhi</td>\n",
       "      <td>77.283827</td>\n",
       "      <td>28.566189</td>\n",
       "      <td>[Chinese]</td>\n",
       "      <td>...</td>\n",
       "      <td>Indian Rupees(Rs.)</td>\n",
       "      <td>No</td>\n",
       "      <td>No</td>\n",
       "      <td>No</td>\n",
       "      <td>1</td>\n",
       "      <td>0.0</td>\n",
       "      <td>White</td>\n",
       "      <td>Not rated</td>\n",
       "      <td>0</td>\n",
       "      <td>350.0</td>\n",
       "    </tr>\n",
       "    <tr>\n",
       "      <th>8030</th>\n",
       "      <td>18429375</td>\n",
       "      <td>Sufiyan Restaurant</td>\n",
       "      <td>1</td>\n",
       "      <td>New Delhi</td>\n",
       "      <td>57/12, Main Road, Zakir Nagar, New Delhi</td>\n",
       "      <td>Zakir Nagar</td>\n",
       "      <td>Zakir Nagar, New Delhi</td>\n",
       "      <td>77.279779</td>\n",
       "      <td>28.567321</td>\n",
       "      <td>[Mughlai]</td>\n",
       "      <td>...</td>\n",
       "      <td>Indian Rupees(Rs.)</td>\n",
       "      <td>No</td>\n",
       "      <td>No</td>\n",
       "      <td>No</td>\n",
       "      <td>1</td>\n",
       "      <td>0.0</td>\n",
       "      <td>White</td>\n",
       "      <td>Not rated</td>\n",
       "      <td>0</td>\n",
       "      <td>250.0</td>\n",
       "    </tr>\n",
       "    <tr>\n",
       "      <th>8031</th>\n",
       "      <td>310479</td>\n",
       "      <td>The Relax Point</td>\n",
       "      <td>1</td>\n",
       "      <td>New Delhi</td>\n",
       "      <td>92/17, Zakir Nagar, New Delhi</td>\n",
       "      <td>Zakir Nagar</td>\n",
       "      <td>Zakir Nagar, New Delhi</td>\n",
       "      <td>77.278543</td>\n",
       "      <td>28.566849</td>\n",
       "      <td>[North Indian]</td>\n",
       "      <td>...</td>\n",
       "      <td>Indian Rupees(Rs.)</td>\n",
       "      <td>No</td>\n",
       "      <td>No</td>\n",
       "      <td>No</td>\n",
       "      <td>1</td>\n",
       "      <td>0.0</td>\n",
       "      <td>White</td>\n",
       "      <td>Not rated</td>\n",
       "      <td>1</td>\n",
       "      <td>250.0</td>\n",
       "    </tr>\n",
       "    <tr>\n",
       "      <th>8032</th>\n",
       "      <td>18212160</td>\n",
       "      <td>Zareen's Dastarkhwan</td>\n",
       "      <td>1</td>\n",
       "      <td>New Delhi</td>\n",
       "      <td>Jamia Nagar, Zakir Nagar, New Delhi</td>\n",
       "      <td>Zakir Nagar</td>\n",
       "      <td>Zakir Nagar, New Delhi</td>\n",
       "      <td>77.285696</td>\n",
       "      <td>28.565194</td>\n",
       "      <td>[Awadhi]</td>\n",
       "      <td>...</td>\n",
       "      <td>Indian Rupees(Rs.)</td>\n",
       "      <td>No</td>\n",
       "      <td>No</td>\n",
       "      <td>No</td>\n",
       "      <td>2</td>\n",
       "      <td>0.0</td>\n",
       "      <td>White</td>\n",
       "      <td>Not rated</td>\n",
       "      <td>1</td>\n",
       "      <td>800.0</td>\n",
       "    </tr>\n",
       "  </tbody>\n",
       "</table>\n",
       "<p>5473 rows × 21 columns</p>\n",
       "</div>"
      ],
      "text/plain": [
       "      Restaurant ID       Restaurant Name  Country Code       City  \\\n",
       "2560       18287358            Food Cloud             1  New Delhi   \n",
       "2561       18216944             Burger.in             1  New Delhi   \n",
       "2562         313333       Days of the Raj             1  New Delhi   \n",
       "2563       18384127        Dilli Ka Dhaba             1  New Delhi   \n",
       "2564            582             Govardhan             1  New Delhi   \n",
       "...             ...                   ...           ...        ...   \n",
       "8028       18445274          Motu N Patlu             1  New Delhi   \n",
       "8029       18168147        S.K. Fast Food             1  New Delhi   \n",
       "8030       18429375    Sufiyan Restaurant             1  New Delhi   \n",
       "8031         310479       The Relax Point             1  New Delhi   \n",
       "8032       18212160  Zareen's Dastarkhwan             1  New Delhi   \n",
       "\n",
       "                                                Address     Locality  \\\n",
       "2560                              Aaya Nagar, New Delhi   Aaya Nagar   \n",
       "2561        84, Near Honda Showroom, Adchini, New Delhi      Adchini   \n",
       "2562  81/3, 1st Floor, Qutub Residency, Adchini, New...      Adchini   \n",
       "2563  66 A, Ground Floor, Sri Aurobindo Marg, Adchin...      Adchini   \n",
       "2564  84, Adjacent Hero Motor Bike Showroom, Main Me...      Adchini   \n",
       "...                                                 ...          ...   \n",
       "8028  Batla House Chowk, Near Jamia Milia Islamia, O...  Zakir Nagar   \n",
       "8029  161/32, Shop 3 Joga Bai, Main Road, Zakir Naga...  Zakir Nagar   \n",
       "8030           57/12, Main Road, Zakir Nagar, New Delhi  Zakir Nagar   \n",
       "8031                      92/17, Zakir Nagar, New Delhi  Zakir Nagar   \n",
       "8032                Jamia Nagar, Zakir Nagar, New Delhi  Zakir Nagar   \n",
       "\n",
       "            Locality Verbose  Longitude   Latitude  \\\n",
       "2560   Aaya Nagar, New Delhi   0.000000   0.000000   \n",
       "2561      Adchini, New Delhi  77.196923  28.535382   \n",
       "2562      Adchini, New Delhi  77.197475  28.535493   \n",
       "2563      Adchini, New Delhi  77.198033  28.537547   \n",
       "2564      Adchini, New Delhi  77.196924  28.535523   \n",
       "...                      ...        ...        ...   \n",
       "8028  Zakir Nagar, New Delhi  77.285065  28.566246   \n",
       "8029  Zakir Nagar, New Delhi  77.283827  28.566189   \n",
       "8030  Zakir Nagar, New Delhi  77.279779  28.567321   \n",
       "8031  Zakir Nagar, New Delhi  77.278543  28.566849   \n",
       "8032  Zakir Nagar, New Delhi  77.285696  28.565194   \n",
       "\n",
       "                                   Cuisines  ...            Currency  \\\n",
       "2560                       [Cuisine Varies]  ...  Indian Rupees(Rs.)   \n",
       "2561                            [Fast Food]  ...  Indian Rupees(Rs.)   \n",
       "2562   [North Indian, Seafood, Continental]  ...  Indian Rupees(Rs.)   \n",
       "2563           [South Indian, North Indian]  ...  Indian Rupees(Rs.)   \n",
       "2564  [South Indian, North Indian, Chinese]  ...  Indian Rupees(Rs.)   \n",
       "...                                     ...  ...                 ...   \n",
       "8028    [Lebanese, North Indian, Fast Food]  ...  Indian Rupees(Rs.)   \n",
       "8029                              [Chinese]  ...  Indian Rupees(Rs.)   \n",
       "8030                              [Mughlai]  ...  Indian Rupees(Rs.)   \n",
       "8031                         [North Indian]  ...  Indian Rupees(Rs.)   \n",
       "8032                               [Awadhi]  ...  Indian Rupees(Rs.)   \n",
       "\n",
       "     Has Table booking Has Online delivery Is delivering now Price range  \\\n",
       "2560                No                  No                No           2   \n",
       "2561                No                 Yes                No           1   \n",
       "2562               Yes                 Yes                No           3   \n",
       "2563                No                  No                No           2   \n",
       "2564                No                 Yes                No           2   \n",
       "...                ...                 ...               ...         ...   \n",
       "8028                No                  No                No           1   \n",
       "8029                No                  No                No           1   \n",
       "8030                No                  No                No           1   \n",
       "8031                No                  No                No           1   \n",
       "8032                No                  No                No           2   \n",
       "\n",
       "      Aggregate rating  Rating color Rating text Votes  \\\n",
       "2560               0.0         White   Not rated     2   \n",
       "2561               3.2        Orange     Average    46   \n",
       "2562               3.4        Orange     Average    45   \n",
       "2563               2.6        Orange     Average    11   \n",
       "2564               3.4        Orange     Average   238   \n",
       "...                ...           ...         ...   ...   \n",
       "8028               0.0         White   Not rated     0   \n",
       "8029               0.0         White   Not rated     0   \n",
       "8030               0.0         White   Not rated     0   \n",
       "8031               0.0         White   Not rated     1   \n",
       "8032               0.0         White   Not rated     1   \n",
       "\n",
       "      Average Cost two person in INR  \n",
       "2560                           500.0  \n",
       "2561                           350.0  \n",
       "2562                          1500.0  \n",
       "2563                           500.0  \n",
       "2564                           500.0  \n",
       "...                              ...  \n",
       "8028                           250.0  \n",
       "8029                           350.0  \n",
       "8030                           250.0  \n",
       "8031                           250.0  \n",
       "8032                           800.0  \n",
       "\n",
       "[5473 rows x 21 columns]"
      ]
     },
     "execution_count": 209,
     "metadata": {},
     "output_type": "execute_result"
    }
   ],
   "source": [
    "df[df[\"City\"]==\"New Delhi\"]"
   ]
  },
  {
   "cell_type": "code",
   "execution_count": 210,
   "id": "c1ce8fdb-3dd4-41e0-8adf-28e43c2799b9",
   "metadata": {},
   "outputs": [
    {
     "data": {
      "text/plain": [
       "2560    None\n",
       "2561    None\n",
       "2562    None\n",
       "2563    None\n",
       "2564    None\n",
       "        ... \n",
       "8028    None\n",
       "8029    None\n",
       "8030    None\n",
       "8031    None\n",
       "8032    None\n",
       "Name: Cuisines, Length: 5473, dtype: object"
      ]
     },
     "execution_count": 210,
     "metadata": {},
     "output_type": "execute_result"
    }
   ],
   "source": [
    "delhi_cuis = {}\n",
    "def cu_count(lst):\n",
    "    for i in lst:\n",
    "        if i not in delhi_cuis:\n",
    "            delhi_cuis[i] = 1\n",
    "        else:\n",
    "            delhi_cuis[i] +=1\n",
    "df[df[\"City\"]==\"New Delhi\"][\"Cuisines\"].apply(cu_count)"
   ]
  },
  {
   "cell_type": "code",
   "execution_count": 299,
   "id": "e83cbc92-945f-46f2-930e-4f818e38c3c7",
   "metadata": {},
   "outputs": [],
   "source": [
    "delhi_c = pd.Series(delhi_cuis).sort_values(ascending=False).head(5)"
   ]
  },
  {
   "cell_type": "code",
   "execution_count": 301,
   "id": "779e1a46-f6e4-4063-9982-adc135749120",
   "metadata": {},
   "outputs": [
    {
     "data": {
      "text/plain": [
       "North Indian    2425\n",
       "Chinese         1638\n",
       "Fast Food       1304\n",
       "Mughlai          628\n",
       "Bakery           465\n",
       "dtype: int64"
      ]
     },
     "execution_count": 301,
     "metadata": {},
     "output_type": "execute_result"
    }
   ],
   "source": [
    "delhi_c"
   ]
  },
  {
   "cell_type": "code",
   "execution_count": 213,
   "id": "8b74cec0-be84-4313-bf86-5b05ecea5c2f",
   "metadata": {},
   "outputs": [
    {
     "data": {
      "text/plain": [
       "Index(['Restaurant ID', 'Restaurant Name', 'Country Code', 'City', 'Address',\n",
       "       'Locality', 'Locality Verbose', 'Longitude', 'Latitude', 'Cuisines',\n",
       "       'Average Cost for two', 'Currency', 'Has Table booking',\n",
       "       'Has Online delivery', 'Is delivering now', 'Price range',\n",
       "       'Aggregate rating', 'Rating color', 'Rating text', 'Votes',\n",
       "       'Average Cost two person in INR'],\n",
       "      dtype='object')"
      ]
     },
     "execution_count": 213,
     "metadata": {},
     "output_type": "execute_result"
    }
   ],
   "source": [
    "df.columns"
   ]
  },
  {
   "cell_type": "code",
   "execution_count": 214,
   "id": "dd833414-3fc9-4bec-9226-52fde9856e81",
   "metadata": {
    "scrolled": true
   },
   "outputs": [
    {
     "data": {
      "text/html": [
       "<div>\n",
       "<style scoped>\n",
       "    .dataframe tbody tr th:only-of-type {\n",
       "        vertical-align: middle;\n",
       "    }\n",
       "\n",
       "    .dataframe tbody tr th {\n",
       "        vertical-align: top;\n",
       "    }\n",
       "\n",
       "    .dataframe thead th {\n",
       "        text-align: right;\n",
       "    }\n",
       "</style>\n",
       "<table border=\"1\" class=\"dataframe\">\n",
       "  <thead>\n",
       "    <tr style=\"text-align: right;\">\n",
       "      <th></th>\n",
       "      <th>Aggregate rating</th>\n",
       "      <th>Rating color</th>\n",
       "      <th>Rating text</th>\n",
       "      <th>count</th>\n",
       "    </tr>\n",
       "  </thead>\n",
       "  <tbody>\n",
       "    <tr>\n",
       "      <th>0</th>\n",
       "      <td>0.0</td>\n",
       "      <td>White</td>\n",
       "      <td>Not rated</td>\n",
       "      <td>2148</td>\n",
       "    </tr>\n",
       "    <tr>\n",
       "      <th>1</th>\n",
       "      <td>1.8</td>\n",
       "      <td>Red</td>\n",
       "      <td>Poor</td>\n",
       "      <td>1</td>\n",
       "    </tr>\n",
       "    <tr>\n",
       "      <th>2</th>\n",
       "      <td>1.9</td>\n",
       "      <td>Red</td>\n",
       "      <td>Poor</td>\n",
       "      <td>2</td>\n",
       "    </tr>\n",
       "    <tr>\n",
       "      <th>3</th>\n",
       "      <td>2.0</td>\n",
       "      <td>Red</td>\n",
       "      <td>Poor</td>\n",
       "      <td>7</td>\n",
       "    </tr>\n",
       "    <tr>\n",
       "      <th>4</th>\n",
       "      <td>2.1</td>\n",
       "      <td>Red</td>\n",
       "      <td>Poor</td>\n",
       "      <td>15</td>\n",
       "    </tr>\n",
       "  </tbody>\n",
       "</table>\n",
       "</div>"
      ],
      "text/plain": [
       "   Aggregate rating Rating color Rating text  count\n",
       "0               0.0        White   Not rated   2148\n",
       "1               1.8          Red        Poor      1\n",
       "2               1.9          Red        Poor      2\n",
       "3               2.0          Red        Poor      7\n",
       "4               2.1          Red        Poor     15"
      ]
     },
     "execution_count": 214,
     "metadata": {},
     "output_type": "execute_result"
    }
   ],
   "source": [
    "ratting = df.groupby(['Aggregate rating', 'Rating color', 'Rating text']).size().reset_index(name=\"count\")\n",
    "ratting.head()"
   ]
  },
  {
   "cell_type": "code",
   "execution_count": 215,
   "id": "55673de9-8c39-4a8b-995b-5102ed295ed7",
   "metadata": {},
   "outputs": [
    {
     "data": {
      "text/plain": [
       "<Axes: xlabel='Aggregate rating', ylabel='count'>"
      ]
     },
     "execution_count": 215,
     "metadata": {},
     "output_type": "execute_result"
    },
    {
     "data": {
      "image/png": "[encoded data removed]",
      "text/plain": [
       "<Figure size 1500x500 with 1 Axes>"
      ]
     },
     "metadata": {},
     "output_type": "display_data"
    }
   ],
   "source": [
    "plt.figure(figsize=(15,5))\n",
    "sns.barplot(data=ratting, x=\"Aggregate rating\", y=\"count\",hue=\"Rating color\",palette=[\"gray\",\"red\",\"orange\",\"yellow\",\"#90EE90\",\"green\"])"
   ]
  },
  {
   "cell_type": "code",
   "execution_count": 216,
   "id": "2f6695bd-1bce-4435-980c-d02e8cbfc23f",
   "metadata": {},
   "outputs": [
    {
     "data": {
      "text/plain": [
       "Index(['Restaurant ID', 'Restaurant Name', 'Country Code', 'City', 'Address',\n",
       "       'Locality', 'Locality Verbose', 'Longitude', 'Latitude', 'Cuisines',\n",
       "       'Average Cost for two', 'Currency', 'Has Table booking',\n",
       "       'Has Online delivery', 'Is delivering now', 'Price range',\n",
       "       'Aggregate rating', 'Rating color', 'Rating text', 'Votes',\n",
       "       'Average Cost two person in INR'],\n",
       "      dtype='object')"
      ]
     },
     "execution_count": 216,
     "metadata": {},
     "output_type": "execute_result"
    }
   ],
   "source": [
    "df.columns"
   ]
  },
  {
   "cell_type": "code",
   "execution_count": 217,
   "id": "9b8c607a-b1b4-4453-bd15-65eefdeeb84a",
   "metadata": {},
   "outputs": [
    {
     "data": {
      "text/plain": [
       "count     9551.000000\n",
       "mean       156.909748\n",
       "std        430.169145\n",
       "min          0.000000\n",
       "25%          5.000000\n",
       "50%         31.000000\n",
       "75%        131.000000\n",
       "max      10934.000000\n",
       "Name: Votes, dtype: float64"
      ]
     },
     "execution_count": 217,
     "metadata": {},
     "output_type": "execute_result"
    }
   ],
   "source": [
    "df[\"Votes\"].describe()"
   ]
  },
  {
   "cell_type": "code",
   "execution_count": 218,
   "id": "f37d093e-748e-49af-a912-918840c045fc",
   "metadata": {},
   "outputs": [
    {
     "data": {
      "text/html": [
       "<div>\n",
       "<style scoped>\n",
       "    .dataframe tbody tr th:only-of-type {\n",
       "        vertical-align: middle;\n",
       "    }\n",
       "\n",
       "    .dataframe tbody tr th {\n",
       "        vertical-align: top;\n",
       "    }\n",
       "\n",
       "    .dataframe thead th {\n",
       "        text-align: right;\n",
       "    }\n",
       "</style>\n",
       "<table border=\"1\" class=\"dataframe\">\n",
       "  <thead>\n",
       "    <tr style=\"text-align: right;\">\n",
       "      <th></th>\n",
       "      <th>Restaurant ID</th>\n",
       "      <th>Restaurant Name</th>\n",
       "      <th>Country Code</th>\n",
       "      <th>City</th>\n",
       "      <th>Address</th>\n",
       "      <th>Locality</th>\n",
       "      <th>Locality Verbose</th>\n",
       "      <th>Longitude</th>\n",
       "      <th>Latitude</th>\n",
       "      <th>Cuisines</th>\n",
       "      <th>...</th>\n",
       "      <th>Currency</th>\n",
       "      <th>Has Table booking</th>\n",
       "      <th>Has Online delivery</th>\n",
       "      <th>Is delivering now</th>\n",
       "      <th>Price range</th>\n",
       "      <th>Aggregate rating</th>\n",
       "      <th>Rating color</th>\n",
       "      <th>Rating text</th>\n",
       "      <th>Votes</th>\n",
       "      <th>Average Cost two person in INR</th>\n",
       "    </tr>\n",
       "  </thead>\n",
       "  <tbody>\n",
       "    <tr>\n",
       "      <th>728</th>\n",
       "      <td>51705</td>\n",
       "      <td>Toit</td>\n",
       "      <td>1</td>\n",
       "      <td>Bangalore</td>\n",
       "      <td>298, Namma Metro Pillar 62, 100 Feet Road, Ind...</td>\n",
       "      <td>Indiranagar</td>\n",
       "      <td>Indiranagar, Bangalore</td>\n",
       "      <td>77.640709</td>\n",
       "      <td>12.979166</td>\n",
       "      <td>[Italian, American, Pizza]</td>\n",
       "      <td>...</td>\n",
       "      <td>Indian Rupees(Rs.)</td>\n",
       "      <td>No</td>\n",
       "      <td>No</td>\n",
       "      <td>No</td>\n",
       "      <td>4</td>\n",
       "      <td>4.8</td>\n",
       "      <td>Dark Green</td>\n",
       "      <td>Excellent</td>\n",
       "      <td>10934</td>\n",
       "      <td>2000.0</td>\n",
       "    </tr>\n",
       "  </tbody>\n",
       "</table>\n",
       "<p>1 rows × 21 columns</p>\n",
       "</div>"
      ],
      "text/plain": [
       "     Restaurant ID Restaurant Name  Country Code       City  \\\n",
       "728          51705            Toit             1  Bangalore   \n",
       "\n",
       "                                               Address     Locality  \\\n",
       "728  298, Namma Metro Pillar 62, 100 Feet Road, Ind...  Indiranagar   \n",
       "\n",
       "           Locality Verbose  Longitude   Latitude                    Cuisines  \\\n",
       "728  Indiranagar, Bangalore  77.640709  12.979166  [Italian, American, Pizza]   \n",
       "\n",
       "     ...            Currency Has Table booking Has Online delivery  \\\n",
       "728  ...  Indian Rupees(Rs.)                No                  No   \n",
       "\n",
       "    Is delivering now Price range  Aggregate rating  Rating color Rating text  \\\n",
       "728                No           4               4.8    Dark Green   Excellent   \n",
       "\n",
       "     Votes  Average Cost two person in INR  \n",
       "728  10934                          2000.0  \n",
       "\n",
       "[1 rows x 21 columns]"
      ]
     },
     "execution_count": 218,
     "metadata": {},
     "output_type": "execute_result"
    }
   ],
   "source": [
    "df[df[\"Votes\"]==10934]"
   ]
  },
  {
   "cell_type": "code",
   "execution_count": 279,
   "id": "63f2827d-771e-4c89-81ec-d5900bd2b203",
   "metadata": {},
   "outputs": [],
   "source": [
    "# draw a graph for every city with tere top 5 cuisines"
   ]
  },
  {
   "cell_type": "code",
   "execution_count": 289,
   "id": "b1240e0e-a6b9-4165-bb6e-4de6886480e5",
   "metadata": {},
   "outputs": [],
   "source": [
    "city_list = df[\"City\"].value_counts().index"
   ]
  },
  {
   "cell_type": "code",
   "execution_count": 323,
   "id": "60f201ed-e4aa-4762-8b3f-ad4d1caf5686",
   "metadata": {},
   "outputs": [
    {
     "data": {
      "image/png": "[encoded data removed]",
      "text/plain": [
       "<Figure size 800x3000 with 10 Axes>"
      ]
     },
     "metadata": {},
     "output_type": "display_data"
    }
   ],
   "source": [
    "city_list = df[\"City\"].value_counts().index\n",
    "i = 0\n",
    "fig, ax = plt.subplots(10, 1, figsize=(8, 30)) \n",
    "for city in city_list[0:10]:\n",
    "    \n",
    "    delhi_cuis = {}\n",
    "    def cu_count(lst):\n",
    "        for i in lst:\n",
    "            if i not in delhi_cuis:\n",
    "                delhi_cuis[i] = 1\n",
    "            else:\n",
    "                delhi_cuis[i] +=1\n",
    "\n",
    "    df[df[\"City\"]==city][\"Cuisines\"].apply(cu_count)\n",
    "    city_data = pd.Series(delhi_cuis).sort_values(ascending=False).head(5)\n",
    "    sns.barplot(x=city_data.values, y=city_data.index, ax=ax[i])\n",
    "    ax[i].set_title(city)\n",
    "\n",
    "plt.tight_layout()\n",
    "plt.show()"
   ]
  },
  {
   "cell_type": "code",
   "execution_count": 307,
   "id": "83245c99-6ad2-4ce8-b11c-9d26f4003fea",
   "metadata": {},
   "outputs": [
    {
     "data": {
      "text/plain": [
       "<Axes: >"
      ]
     },
     "execution_count": 307,
     "metadata": {},
     "output_type": "execute_result"
    },
    {
     "data": {
      "image/png": "[encoded data removed]",
      "text/plain": [
       "<Figure size 640x480 with 1 Axes>"
      ]
     },
     "metadata": {},
     "output_type": "display_data"
    }
   ],
   "source": [
    "# delhi_c.plot(kind=\"bar\")\n",
    "sns.barplot(data=delhi_c)"
   ]
  },
  {
   "cell_type": "code",
   "execution_count": 319,
   "id": "ff73a8b8-473c-4d47-8bfd-099626ee9db4",
   "metadata": {},
   "outputs": [
    {
     "data": {
      "image/png": "[encoded data removed]",
      "text/plain": [
       "<Figure size 800x3000 with 10 Axes>"
      ]
     },
     "metadata": {},
     "output_type": "display_data"
    }
   ],
   "source": [
    "fig, ax = plt.subplots(10, 1, figsize=(8, 30))  # Make the figure taller for visibility\n",
    "city_list = df['City'].unique()  # Assuming this is defined earlier\n",
    "\n",
    "for i, city in enumerate(city_list[:10]):\n",
    "    cuis_count = {}\n",
    "\n",
    "    def cu_count(lst):\n",
    "        for item in lst:\n",
    "            if item not in cuis_count:\n",
    "                cuis_count[item] = 1\n",
    "            else:\n",
    "                cuis_count[item] += 1\n",
    "\n",
    "    # Convert to Series for plotting\n",
    "    city_data = pd.Series(cuis_count).sort_values(ascending=False).head(5)\n",
    "\n",
    "    sns.barplot(data=city_data, ax=ax[i])\n",
    "    ax[i].set_title(city)\n",
    "\n",
    "plt.tight_layout()\n",
    "# plt.show()"
   ]
  },
  {
   "cell_type": "code",
   "execution_count": 337,
   "id": "1a1dc461-76b6-4b6b-83c2-63e6381c2c8d",
   "metadata": {},
   "outputs": [
    {
     "data": {
      "image/png": "[encoded data removed]",
      "text/plain": [
       "<Figure size 800x3000 with 10 Axes>"
      ]
     },
     "metadata": {},
     "output_type": "display_data"
    }
   ],
   "source": [
    "city_list = df[\"City\"].value_counts().index\n",
    "fig, ax = plt.subplots(10, 1, figsize=(8, 30)) \n",
    "\n",
    "for i, city in enumerate(city_list[:10]):\n",
    "    delhi_cuis = {}\n",
    "\n",
    "    def cu_count(lst):\n",
    "        if isinstance(lst, list):  # Make sure it's a list before iterating\n",
    "            for cuisine in lst:\n",
    "                if cuisine not in delhi_cuis:\n",
    "                    delhi_cuis[cuisine] = 1\n",
    "                else:\n",
    "                    delhi_cuis[cuisine] += 1\n",
    "\n",
    "    # Split the cuisines and apply the counting function\n",
    "    df[df[\"City\"] == city][\"Cuisines\"].dropna().str.split(', ').apply(cu_count)\n",
    "\n",
    "    # Prepare and plot top 5 cuisines\n",
    "    city_data = pd.Series(delhi_cuis).sort_values(ascending=False).head(5)\n",
    "    # sns.barplot(x=city_data.values, y=city_data.index, ax=ax[i])abs\n",
    "    ax[i].plot(kind=\"bar\")\n",
    "    # print(c)\n",
    "    ax[i].set_title(city)\n",
    "\n",
    "plt.tight_layout()\n",
    "plt.show()"
   ]
  },
  {
   "cell_type": "code",
   "execution_count": 339,
   "id": "3884945f-196b-4fb7-a9e9-256b679b4e21",
   "metadata": {},
   "outputs": [
    {
     "data": {
      "text/plain": [
       "Index(['Restaurant ID', 'Restaurant Name', 'Country Code', 'City', 'Address',\n",
       "       'Locality', 'Locality Verbose', 'Longitude', 'Latitude', 'Cuisines',\n",
       "       'Average Cost for two', 'Currency', 'Has Table booking',\n",
       "       'Has Online delivery', 'Is delivering now', 'Price range',\n",
       "       'Aggregate rating', 'Rating color', 'Rating text', 'Votes',\n",
       "       'Average Cost two person in INR'],\n",
       "      dtype='object')"
      ]
     },
     "execution_count": 339,
     "metadata": {},
     "output_type": "execute_result"
    }
   ],
   "source": [
    "df.columns"
   ]
  },
  {
   "cell_type": "code",
   "execution_count": 346,
   "id": "427160f9-031d-4c30-9814-b2e938f00c81",
   "metadata": {},
   "outputs": [
    {
     "data": {
      "text/html": [
       "<div>\n",
       "<style scoped>\n",
       "    .dataframe tbody tr th:only-of-type {\n",
       "        vertical-align: middle;\n",
       "    }\n",
       "\n",
       "    .dataframe tbody tr th {\n",
       "        vertical-align: top;\n",
       "    }\n",
       "\n",
       "    .dataframe thead th {\n",
       "        text-align: right;\n",
       "    }\n",
       "</style>\n",
       "<table border=\"1\" class=\"dataframe\">\n",
       "  <thead>\n",
       "    <tr style=\"text-align: right;\">\n",
       "      <th>Has Online delivery</th>\n",
       "      <th>No</th>\n",
       "      <th>Yes</th>\n",
       "    </tr>\n",
       "    <tr>\n",
       "      <th>Has Table booking</th>\n",
       "      <th></th>\n",
       "      <th></th>\n",
       "    </tr>\n",
       "  </thead>\n",
       "  <tbody>\n",
       "    <tr>\n",
       "      <th>No</th>\n",
       "      <td>6377</td>\n",
       "      <td>2016</td>\n",
       "    </tr>\n",
       "    <tr>\n",
       "      <th>Yes</th>\n",
       "      <td>723</td>\n",
       "      <td>435</td>\n",
       "    </tr>\n",
       "  </tbody>\n",
       "</table>\n",
       "</div>"
      ],
      "text/plain": [
       "Has Online delivery    No   Yes\n",
       "Has Table booking              \n",
       "No                   6377  2016\n",
       "Yes                   723   435"
      ]
     },
     "execution_count": 346,
     "metadata": {},
     "output_type": "execute_result"
    }
   ],
   "source": [
    "pd.crosstab(df['Has Table booking'],df['Has Online delivery'], df['Is delivering now'],aggfunc=\"count\")"
   ]
  },
  {
   "cell_type": "code",
   "execution_count": 350,
   "id": "53c66b71-5627-4bf3-8fbc-5a881139088b",
   "metadata": {},
   "outputs": [
    {
     "data": {
      "text/plain": [
       "Has Table booking  Has Online delivery  Is delivering now\n",
       "No                 No                   No                   6377\n",
       "                   Yes                  No                   1983\n",
       "                                        Yes                    33\n",
       "Yes                No                   No                    723\n",
       "                   Yes                  No                    434\n",
       "                                        Yes                     1\n",
       "dtype: int64"
      ]
     },
     "execution_count": 350,
     "metadata": {},
     "output_type": "execute_result"
    }
   ],
   "source": [
    "df.groupby(['Has Table booking','Has Online delivery','Is delivering now']).size()"
   ]
  },
  {
   "cell_type": "code",
   "execution_count": 352,
   "id": "9899bbf1-5d4d-48ca-b4f5-e09f9cf7a88c",
   "metadata": {},
   "outputs": [
    {
     "data": {
      "text/plain": [
       "Index(['Restaurant ID', 'Restaurant Name', 'Country Code', 'City', 'Address',\n",
       "       'Locality', 'Locality Verbose', 'Longitude', 'Latitude', 'Cuisines',\n",
       "       'Average Cost for two', 'Currency', 'Has Table booking',\n",
       "       'Has Online delivery', 'Is delivering now', 'Price range',\n",
       "       'Aggregate rating', 'Rating color', 'Rating text', 'Votes',\n",
       "       'Average Cost two person in INR'],\n",
       "      dtype='object')"
      ]
     },
     "execution_count": 352,
     "metadata": {},
     "output_type": "execute_result"
    }
   ],
   "source": [
    "df.columns"
   ]
  },
  {
   "cell_type": "markdown",
   "id": "e5b27f88-d01e-4a64-b206-4be9c9a8b934",
   "metadata": {},
   "source": [
    "1. Which cities are underserved in terms of affordable restaurants with high ratings, and how can Zomato target expansion there?\n",
    "🔧 Requires: Grouping by city, filtering by cost, analyzing rating distribution, maybe clustering.\n",
    "\n",
    "💡 Business insight: Market expansion and penetration opportunity."
   ]
  },
  {
   "cell_type": "code",
   "execution_count": 373,
   "id": "257142fd-3ada-4aed-8b02-3ea64cba25ce",
   "metadata": {},
   "outputs": [],
   "source": [
    "zomato_affor =  df[(df[\"Price range\"]==1) & (df[\"Rating text\"] ==\"Very Good\")][\"City\"].value_counts().reset_index(name=\"count\")"
   ]
  },
  {
   "cell_type": "code",
   "execution_count": 385,
   "id": "86ed0d0f-be30-4f9d-a8da-6ee3e9fa8482",
   "metadata": {},
   "outputs": [
    {
     "data": {
      "text/plain": [
       "0     None\n",
       "1     None\n",
       "2     None\n",
       "3     None\n",
       "4     None\n",
       "5     None\n",
       "6     None\n",
       "7     None\n",
       "8     None\n",
       "9     None\n",
       "10    None\n",
       "11    None\n",
       "12    None\n",
       "13    None\n",
       "14    None\n",
       "15    None\n",
       "16    None\n",
       "17    None\n",
       "18    None\n",
       "19    None\n",
       "20    None\n",
       "21    None\n",
       "22    None\n",
       "23    None\n",
       "24    None\n",
       "25    None\n",
       "26    None\n",
       "27    None\n",
       "28    None\n",
       "29    None\n",
       "30    None\n",
       "31    None\n",
       "32    None\n",
       "33    None\n",
       "34    None\n",
       "dtype: object"
      ]
     },
     "execution_count": 385,
     "metadata": {},
     "output_type": "execute_result"
    }
   ],
   "source": [
    "dt ={}\n",
    "def fun(row):\n",
    "    if row[\"count\"] not in dt:\n",
    "        dt[row[\"count\"]] = [row[\"City\"]]\n",
    "    else:\n",
    "        dt[row[\"count\"]].append(row[\"City\"])\n",
    "\n",
    "zomato_affor.apply(fun,axis=1)"
   ]
  },
  {
   "cell_type": "code",
   "execution_count": 387,
   "id": "ed2e16e4-aea6-4ede-ae28-8c8b53a58773",
   "metadata": {},
   "outputs": [
    {
     "data": {
      "text/plain": [
       "{57: ['New Delhi'],\n",
       " 9: ['Dalton'],\n",
       " 8: ['Athens'],\n",
       " 7: ['Gurgaon'],\n",
       " 6: ['Boise'],\n",
       " 5: ['Gainesville'],\n",
       " 4: ['Noida', 'Des Moines', 'Macon'],\n",
       " 3: ['Savannah', 'Augusta', 'Amritsar', 'Davenport', 'Cedar Rapids/Iowa City'],\n",
       " 2: ['Kochi', 'Bhubaneshwar', 'Rest of Hawaii', 'Columbus'],\n",
       " 1: ['Pocatello',\n",
       "  'Varanasi',\n",
       "  'Surat',\n",
       "  'Ranchi',\n",
       "  'Puducherry',\n",
       "  'Clatskanie',\n",
       "  'Mysore',\n",
       "  'Dehradun',\n",
       "  'Indore',\n",
       "  'Coimbatore',\n",
       "  'Chennai',\n",
       "  'Chandigarh',\n",
       "  'Bangalore',\n",
       "  'Vernonia',\n",
       "  'Sioux City',\n",
       "  'Orlando',\n",
       "  'Vizag']}"
      ]
     },
     "execution_count": 387,
     "metadata": {},
     "output_type": "execute_result"
    }
   ],
   "source": [
    "dt"
   ]
  },
  {
   "cell_type": "code",
   "execution_count": 389,
   "id": "91f5a9b9-efa8-4228-a900-c1736648ab6f",
   "metadata": {},
   "outputs": [
    {
     "data": {
      "text/plain": [
       "['Pocatello',\n",
       " 'Varanasi',\n",
       " 'Surat',\n",
       " 'Ranchi',\n",
       " 'Puducherry',\n",
       " 'Clatskanie',\n",
       " 'Mysore',\n",
       " 'Dehradun',\n",
       " 'Indore',\n",
       " 'Coimbatore',\n",
       " 'Chennai',\n",
       " 'Chandigarh',\n",
       " 'Bangalore',\n",
       " 'Vernonia',\n",
       " 'Sioux City',\n",
       " 'Orlando',\n",
       " 'Vizag']"
      ]
     },
     "execution_count": 389,
     "metadata": {},
     "output_type": "execute_result"
    }
   ],
   "source": [
    "dt[1]"
   ]
  },
  {
   "cell_type": "code",
   "execution_count": null,
   "id": "be8bbee3-2e28-4996-957e-539dae6d976c",
   "metadata": {},
   "outputs": [],
   "source": []
  }
 ],
 "metadata": {
  "kernelspec": {
   "display_name": "Python 3 (ipykernel)",
   "language": "python",
   "name": "python3"
  },
  "language_info": {
   "codemirror_mode": {
    "name": "ipython",
    "version": 3
   },
   "file_extension": ".py",
   "mimetype": "text/x-python",
   "name": "python",
   "nbconvert_exporter": "python",
   "pygments_lexer": "ipython3",
   "version": "3.12.4"
  }
 },
 "nbformat": 4,
 "nbformat_minor": 5
}
